{
 "cells": [
  {
   "cell_type": "markdown",
   "metadata": {
    "collapsed": true
   },
   "source": [
    "# Setup"
   ]
  },
  {
   "cell_type": "code",
   "execution_count": 2,
   "metadata": {
    "collapsed": true
   },
   "outputs": [],
   "source": [
    "import pandas as pd\n",
    "import numpy as np\n",
    "import matplotlib\n",
    "import matplotlib.pyplot as plt\n",
    "import matplotlib.font_manager as font_manager\n",
    "import math\n",
    "from pfa_util import *"
   ]
  },
  {
   "cell_type": "code",
   "execution_count": 3,
   "metadata": {
    "collapsed": true
   },
   "outputs": [],
   "source": [
    "# Color style similar to ppt color scheme\n",
    "plt.style.use('seaborn-colorblind')\n",
    "\n",
    "#Latex Default Font\n",
    "plt.rc('font', family='serif') \n",
    "plt.rc('font', serif='Latin Modern Roman')\n",
    "matplotlib.rcParams.update({'font.size': 16})"
   ]
  },
  {
   "cell_type": "code",
   "execution_count": 4,
   "metadata": {
    "collapsed": true
   },
   "outputs": [],
   "source": [
    "def make_hatches(ax, df):\n",
    "    hatches = [h*len(df.index) for h in [['//'], ['-'], ['x'], ['\\\\'], ['||'], ['+'], ['o'], ['.']]]\n",
    "    hatches = sum(hatches, [])\n",
    "\n",
    "    if len(hatches) < len(ax.patches):\n",
    "        print(\"Not enough hatches defined\")\n",
    "        \n",
    "    for i,bar in enumerate(ax.patches):\n",
    "        bar.set_hatch(hatches[i])\n",
    "    ax.legend()"
   ]
  },
  {
   "cell_type": "code",
   "execution_count": 7,
   "metadata": {},
   "outputs": [
    {
     "data": {
      "text/plain": [
       "Index(['t_run', 't_bookkeeping', 't_rmem_write', 't_rmem_read', 'n_fault',\n",
       "       't_fault', 'n_swapfault', 'n_pfa_fault', 'n_early_newq', 'n_evicted',\n",
       "       'n_fetched', 'n_kpfad', 't_kpfad', 'slowdown'],\n",
       "      dtype='object')"
      ]
     },
     "execution_count": 7,
     "metadata": {},
     "output_type": "execute_result"
    }
   ],
   "source": [
    "# RamSwap on x86\n",
    "x86_res = ingest_run('raw/results_x86.csv', 'x86')\n",
    "\n",
    "# Paging to remote memory in SW ('baseline')\n",
    "base_res = ingest_run('raw/results_baseline.csv', 'rv')\n",
    "\n",
    "# Paging using the PFA to real memblade\n",
    "pfa_res = ingest_run('raw/results_pfa.csv', 'rv')\n",
    "\n",
    "# RamSwap on firesim\n",
    "ram_res = ingest_run('raw/results_rvRamSwap.csv', 'rv')\n",
    "\n",
    "# pfa_res['genome'].mean\n",
    "pfa_res['python'].mean.keys()"
   ]
  },
  {
   "cell_type": "markdown",
   "metadata": {},
   "source": [
    "## Quick Checks\n",
    "Not actually used in the paper"
   ]
  },
  {
   "cell_type": "code",
   "execution_count": 5,
   "metadata": {},
   "outputs": [
    {
     "data": {
      "image/png": "[encoded data removed]",
      "text/plain": [
       "<Figure size 432x288 with 1 Axes>"
      ]
     },
     "metadata": {},
     "output_type": "display_data"
    }
   ],
   "source": [
    "e2e_bench_means = [pfa_res[Bname].mean['slowdown'].rename(Bname) for Bname in pfa_res.keys()]\n",
    "e2e_bench_stds = [pfa_res[Bname].std['slowdown'].rename(Bname) for Bname in pfa_res.keys()]\n",
    "e2e_means = pd.concat(e2e_bench_means, axis='columns')\n",
    "e2e_stds = pd.concat(e2e_bench_stds, axis='columns')\n",
    "\n",
    "ax = e2e_means.plot.bar(title='Slowdown')\n",
    "\n",
    "make_hatches(ax, e2e_means)\n",
    "plt.show()"
   ]
  },
  {
   "cell_type": "code",
   "execution_count": 6,
   "metadata": {},
   "outputs": [
    {
     "data": {
      "image/png": "[encoded data removed]",
      "text/plain": [
       "<Figure size 432x288 with 1 Axes>"
      ]
     },
     "metadata": {},
     "output_type": "display_data"
    }
   ],
   "source": [
    "e2e_bench_means = [base_res[Bname].mean['t_run'].rename(Bname) for Bname in pfa_res.keys()]\n",
    "e2e_bench_stds = [base_res[Bname].std['t_run'].rename(Bname) for Bname in pfa_res.keys()]\n",
    "e2e_means = pd.concat(e2e_bench_means, axis='columns')\n",
    "e2e_stds = pd.concat(e2e_bench_stds, axis='columns')\n",
    "\n",
    "ax = e2e_means.plot.bar(title='Slowdown')\n",
    "\n",
    "make_hatches(ax, e2e_means)\n",
    "plt.show()"
   ]
  },
  {
   "cell_type": "code",
   "execution_count": 7,
   "metadata": {},
   "outputs": [
    {
     "data": {
      "text/html": [
       "<div>\n",
       "<style scoped>\n",
       "    .dataframe tbody tr th:only-of-type {\n",
       "        vertical-align: middle;\n",
       "    }\n",
       "\n",
       "    .dataframe tbody tr th {\n",
       "        vertical-align: top;\n",
       "    }\n",
       "\n",
       "    .dataframe thead th {\n",
       "        text-align: right;\n",
       "    }\n",
       "</style>\n",
       "<table border=\"1\" class=\"dataframe\">\n",
       "  <thead>\n",
       "    <tr style=\"text-align: right;\">\n",
       "      <th></th>\n",
       "      <th>t_run</th>\n",
       "      <th>t_bookkeeping</th>\n",
       "      <th>t_rmem_write</th>\n",
       "      <th>t_rmem_read</th>\n",
       "      <th>n_fault</th>\n",
       "      <th>t_fault</th>\n",
       "      <th>n_swapfault</th>\n",
       "      <th>n_pfa_fault</th>\n",
       "      <th>n_early_newq</th>\n",
       "      <th>n_evicted</th>\n",
       "      <th>n_fetched</th>\n",
       "      <th>n_kpfad</th>\n",
       "      <th>t_kpfad</th>\n",
       "      <th>slowdown</th>\n",
       "    </tr>\n",
       "    <tr>\n",
       "      <th>size</th>\n",
       "      <th></th>\n",
       "      <th></th>\n",
       "      <th></th>\n",
       "      <th></th>\n",
       "      <th></th>\n",
       "      <th></th>\n",
       "      <th></th>\n",
       "      <th></th>\n",
       "      <th></th>\n",
       "      <th></th>\n",
       "      <th></th>\n",
       "      <th></th>\n",
       "      <th></th>\n",
       "      <th></th>\n",
       "    </tr>\n",
       "  </thead>\n",
       "  <tbody>\n",
       "    <tr>\n",
       "      <th>100.0</th>\n",
       "      <td>1.684221</td>\n",
       "      <td>0.005289</td>\n",
       "      <td>0.002702</td>\n",
       "      <td>0.0</td>\n",
       "      <td>10656.333333</td>\n",
       "      <td>0.079287</td>\n",
       "      <td>0.0</td>\n",
       "      <td>12.000000</td>\n",
       "      <td>92.333333</td>\n",
       "      <td>1045.333333</td>\n",
       "      <td>738.333333</td>\n",
       "      <td>0.0</td>\n",
       "      <td>0.0</td>\n",
       "      <td>1.000000</td>\n",
       "    </tr>\n",
       "    <tr>\n",
       "      <th>75.0</th>\n",
       "      <td>1.730389</td>\n",
       "      <td>0.031244</td>\n",
       "      <td>0.009852</td>\n",
       "      <td>0.0</td>\n",
       "      <td>17876.000000</td>\n",
       "      <td>0.105684</td>\n",
       "      <td>0.0</td>\n",
       "      <td>47.666667</td>\n",
       "      <td>333.333333</td>\n",
       "      <td>3835.000000</td>\n",
       "      <td>3049.000000</td>\n",
       "      <td>0.0</td>\n",
       "      <td>0.0</td>\n",
       "      <td>1.027412</td>\n",
       "    </tr>\n",
       "    <tr>\n",
       "      <th>50.0</th>\n",
       "      <td>1.952219</td>\n",
       "      <td>0.137448</td>\n",
       "      <td>0.032581</td>\n",
       "      <td>0.0</td>\n",
       "      <td>36312.666667</td>\n",
       "      <td>0.259532</td>\n",
       "      <td>0.0</td>\n",
       "      <td>177.666667</td>\n",
       "      <td>1658.666667</td>\n",
       "      <td>12691.333333</td>\n",
       "      <td>11380.000000</td>\n",
       "      <td>0.0</td>\n",
       "      <td>0.0</td>\n",
       "      <td>1.159123</td>\n",
       "    </tr>\n",
       "    <tr>\n",
       "      <th>25.0</th>\n",
       "      <td>3.997994</td>\n",
       "      <td>0.843604</td>\n",
       "      <td>0.179366</td>\n",
       "      <td>0.0</td>\n",
       "      <td>190521.333333</td>\n",
       "      <td>1.905531</td>\n",
       "      <td>0.0</td>\n",
       "      <td>1062.000000</td>\n",
       "      <td>7976.333333</td>\n",
       "      <td>69938.666667</td>\n",
       "      <td>67976.666667</td>\n",
       "      <td>0.0</td>\n",
       "      <td>0.0</td>\n",
       "      <td>2.373794</td>\n",
       "    </tr>\n",
       "  </tbody>\n",
       "</table>\n",
       "</div>"
      ],
      "text/plain": [
       "          t_run  t_bookkeeping  t_rmem_write  t_rmem_read        n_fault  \\\n",
       "size                                                                       \n",
       "100.0  1.684221       0.005289      0.002702          0.0   10656.333333   \n",
       "75.0   1.730389       0.031244      0.009852          0.0   17876.000000   \n",
       "50.0   1.952219       0.137448      0.032581          0.0   36312.666667   \n",
       "25.0   3.997994       0.843604      0.179366          0.0  190521.333333   \n",
       "\n",
       "        t_fault  n_swapfault  n_pfa_fault  n_early_newq     n_evicted  \\\n",
       "size                                                                    \n",
       "100.0  0.079287          0.0    12.000000     92.333333   1045.333333   \n",
       "75.0   0.105684          0.0    47.666667    333.333333   3835.000000   \n",
       "50.0   0.259532          0.0   177.666667   1658.666667  12691.333333   \n",
       "25.0   1.905531          0.0  1062.000000   7976.333333  69938.666667   \n",
       "\n",
       "          n_fetched  n_kpfad  t_kpfad  slowdown  \n",
       "size                                             \n",
       "100.0    738.333333      0.0      0.0  1.000000  \n",
       "75.0    3049.000000      0.0      0.0  1.027412  \n",
       "50.0   11380.000000      0.0      0.0  1.159123  \n",
       "25.0   67976.666667      0.0      0.0  2.373794  "
      ]
     },
     "execution_count": 7,
     "metadata": {},
     "output_type": "execute_result"
    }
   ],
   "source": [
    "pfa_res['python'].mean"
   ]
  },
  {
   "cell_type": "markdown",
   "metadata": {},
   "source": [
    "# Intro/Motivation"
   ]
  },
  {
   "cell_type": "markdown",
   "metadata": {},
   "source": [
    "## x86 RamSwap Slowdown"
   ]
  },
  {
   "cell_type": "code",
   "execution_count": 8,
   "metadata": {},
   "outputs": [
    {
     "data": {
      "image/png": "[encoded data removed]",
      "text/plain": [
       "<Figure size 432x288 with 1 Axes>"
      ]
     },
     "metadata": {},
     "output_type": "display_data"
    }
   ],
   "source": [
    "e2e_bench_means = [x86_res[Bname].mean['slowdown'].rename(Bname) for Bname in x86_res.keys()]\n",
    "e2e_bench_stds = [x86_res[Bname].std['slowdown'].rename(Bname) for Bname in x86_res.keys()]\n",
    "e2e_mean = pd.concat(e2e_bench_means, axis='columns')\n",
    "e2e_std = pd.concat(e2e_bench_stds, axis='columns')\n",
    "\n",
    "ax = e2e_mean.plot.bar(title='Slowdown', yerr=e2e_bench_stds)\n",
    "make_hatches(ax, e2e_means)\n",
    "plt.show()"
   ]
  },
  {
   "cell_type": "code",
   "execution_count": 9,
   "metadata": {},
   "outputs": [
    {
     "name": "stdout",
     "output_type": "stream",
     "text": [
      "            25.0      50.0      75.0      100.0\n",
      "python   0.076848  0.122047  0.050893  0.074702\n",
      "linpack  0.014919  0.023826  0.030363  0.039672\n"
     ]
    },
    {
     "data": {
      "image/png": "[encoded data removed]",
      "text/plain": [
       "<Figure size 432x288 with 1 Axes>"
      ]
     },
     "metadata": {},
     "output_type": "display_data"
    }
   ],
   "source": [
    "total_slowdown_mean = pd.DataFrame()\n",
    "total_slowdown_std = pd.DataFrame()\n",
    "for Bname,Bf in x86_res.items():\n",
    "    total_slowdown_mean = total_slowdown_mean.append(Bf.mean['slowdown'].rename(Bname))\n",
    "    total_slowdown_std = total_slowdown_std.append(Bf.std['slowdown'].rename(Bname))\n",
    "\n",
    "print(total_slowdown_std)\n",
    "total_slowdown_mean.sort_index(axis=1, inplace=True, ascending=False)\n",
    "ax = total_slowdown_mean.T.plot(\n",
    "    yerr=total_slowdown_std.T,\n",
    "    kind='bar',\n",
    "    linewidth=3)\n",
    "\n",
    "make_hatches(ax, total_slowdown_mean)\n",
    "\n",
    "plt.ylabel('SlowDown vs No Paging')\n",
    "plt.xlabel('Percent Memory Local')\n",
    "plt.savefig('figs/paging_overhead.png', dpi=300, bbox_inches='tight')\n",
    "plt.show()"
   ]
  },
  {
   "cell_type": "markdown",
   "metadata": {},
   "source": [
    "## PFLat"
   ]
  },
  {
   "cell_type": "code",
   "execution_count": 10,
   "metadata": {
    "collapsed": true
   },
   "outputs": [],
   "source": [
    "pflat = ingest_pflat('raw/pflat.csv')"
   ]
  },
  {
   "cell_type": "markdown",
   "metadata": {},
   "source": [
    "### x86 Page Fault"
   ]
  },
  {
   "cell_type": "code",
   "execution_count": 11,
   "metadata": {},
   "outputs": [
    {
     "name": "stdout",
     "output_type": "stream",
     "text": [
      "End-to-End: 7938.57±3418.70 [4530.07 - 13169.28]\n",
      "Trap: 866.62±26.39 [831.85 - 908.94]\n"
     ]
    }
   ],
   "source": [
    "stat = pflat['x86'] * 1E9\n",
    "print(\"End-to-End: \" + \"{0:.2f}\".format(stat.loc['e2e', 'mean']) + \"±\" + \"{0:.2f}\".format(stat.loc['e2e','std']) +\n",
    "      \" [\" + \"{0:.2f}\".format(stat.loc['e2e', 'min']) + \" - \" + \"{0:.2f}\".format(stat.loc['e2e', 'max']) + \"]\")\n",
    "print(\"Trap: \" + \"{0:.2f}\".format(stat.loc['trap', 'mean']) + \"±\" + \"{0:.2f}\".format(stat.loc['trap','std']) +\n",
    "      \" [\" + \"{0:.2f}\".format(stat.loc['trap', 'min']) + \" - \" + \"{0:.2f}\".format(stat.loc['trap', 'max']) + \"]\")"
   ]
  },
  {
   "cell_type": "markdown",
   "metadata": {},
   "source": [
    "### Rocket Page Fault:"
   ]
  },
  {
   "cell_type": "code",
   "execution_count": 12,
   "metadata": {},
   "outputs": [
    {
     "name": "stdout",
     "output_type": "stream",
     "text": [
      "End-to-End: 6416.19±173.76 [6082.50 - 6711.25]\n",
      "Trap: 137.84±13.28 [115.31 - 164.06]\n"
     ]
    }
   ],
   "source": [
    "stat = pflat['rvRamSwap'] * 1E9\n",
    "print(\"End-to-End: \" + \n",
    "      \"{0:.2f}\".format(stat.loc['e2e', 'mean']) + \"±\" + \"{0:.2f}\".format(stat.loc['e2e','std']) +\n",
    "      \" [\" + \"{0:.2f}\".format(stat.loc['e2e', 'min']) + \" - \" + \"{0:.2f}\".format(stat.loc['e2e', 'max']) + \"]\")\n",
    "print(\"Trap: \" + \"{0:.2f}\".format(stat.loc['trap', 'mean']) + \"±\" + \"{0:.2f}\".format(stat.loc['trap','std']) +\n",
    "      \" [\" + \"{0:.2f}\".format(stat.loc['trap', 'min']) + \" - \" + \"{0:.2f}\".format(stat.loc['trap', 'max']) + \"]\")"
   ]
  },
  {
   "cell_type": "markdown",
   "metadata": {},
   "source": [
    "## Micro-Benchmarks and Measurements"
   ]
  },
  {
   "cell_type": "code",
   "execution_count": 13,
   "metadata": {
    "collapsed": true
   },
   "outputs": [],
   "source": [
    "micro = ingest_micro(\"raw/micro_new.csv\")"
   ]
  },
  {
   "cell_type": "markdown",
   "metadata": {},
   "source": [
    "### Mean (us):"
   ]
  },
  {
   "cell_type": "code",
   "execution_count": 14,
   "metadata": {},
   "outputs": [
    {
     "data": {
      "text/html": [
       "<div>\n",
       "<style scoped>\n",
       "    .dataframe tbody tr th:only-of-type {\n",
       "        vertical-align: middle;\n",
       "    }\n",
       "\n",
       "    .dataframe tbody tr th {\n",
       "        vertical-align: top;\n",
       "    }\n",
       "\n",
       "    .dataframe thead th {\n",
       "        text-align: right;\n",
       "    }\n",
       "</style>\n",
       "<table border=\"1\" class=\"dataframe\">\n",
       "  <thead>\n",
       "    <tr style=\"text-align: right;\">\n",
       "      <th></th>\n",
       "      <th>PFA</th>\n",
       "      <th>rvSW</th>\n",
       "      <th>rvRamSwap</th>\n",
       "      <th>x86RamSwap</th>\n",
       "    </tr>\n",
       "    <tr>\n",
       "      <th>measurement</th>\n",
       "      <th></th>\n",
       "      <th></th>\n",
       "      <th></th>\n",
       "      <th></th>\n",
       "    </tr>\n",
       "  </thead>\n",
       "  <tbody>\n",
       "    <tr>\n",
       "      <th>t_miss</th>\n",
       "      <td>2.460906</td>\n",
       "      <td>5.314031</td>\n",
       "      <td>6.416187</td>\n",
       "      <td>7.938570</td>\n",
       "    </tr>\n",
       "    <tr>\n",
       "      <th>t_read_memblade_measured</th>\n",
       "      <td>NaN</td>\n",
       "      <td>2.685125</td>\n",
       "      <td>3.136219</td>\n",
       "      <td>0.842912</td>\n",
       "    </tr>\n",
       "    <tr>\n",
       "      <th>t_trap</th>\n",
       "      <td>0.014063</td>\n",
       "      <td>0.119938</td>\n",
       "      <td>0.137844</td>\n",
       "      <td>0.866619</td>\n",
       "    </tr>\n",
       "  </tbody>\n",
       "</table>\n",
       "</div>"
      ],
      "text/plain": [
       "                               PFA      rvSW  rvRamSwap  x86RamSwap\n",
       "measurement                                                        \n",
       "t_miss                    2.460906  5.314031   6.416187    7.938570\n",
       "t_read_memblade_measured       NaN  2.685125   3.136219    0.842912\n",
       "t_trap                    0.014063  0.119938   0.137844    0.866619"
      ]
     },
     "execution_count": 14,
     "metadata": {},
     "output_type": "execute_result"
    }
   ],
   "source": [
    "micro.mean * 1E6"
   ]
  },
  {
   "cell_type": "markdown",
   "metadata": {},
   "source": [
    "### Standard Deviation (us):"
   ]
  },
  {
   "cell_type": "code",
   "execution_count": 15,
   "metadata": {},
   "outputs": [
    {
     "data": {
      "text/html": [
       "<div>\n",
       "<style scoped>\n",
       "    .dataframe tbody tr th:only-of-type {\n",
       "        vertical-align: middle;\n",
       "    }\n",
       "\n",
       "    .dataframe tbody tr th {\n",
       "        vertical-align: top;\n",
       "    }\n",
       "\n",
       "    .dataframe thead th {\n",
       "        text-align: right;\n",
       "    }\n",
       "</style>\n",
       "<table border=\"1\" class=\"dataframe\">\n",
       "  <thead>\n",
       "    <tr style=\"text-align: right;\">\n",
       "      <th></th>\n",
       "      <th>PFA</th>\n",
       "      <th>rvSW</th>\n",
       "      <th>rvRamSwap</th>\n",
       "      <th>x86RamSwap</th>\n",
       "    </tr>\n",
       "    <tr>\n",
       "      <th>measurement</th>\n",
       "      <th></th>\n",
       "      <th></th>\n",
       "      <th></th>\n",
       "      <th></th>\n",
       "    </tr>\n",
       "  </thead>\n",
       "  <tbody>\n",
       "    <tr>\n",
       "      <th>t_miss</th>\n",
       "      <td>0.021082</td>\n",
       "      <td>0.099988</td>\n",
       "      <td>0.173761</td>\n",
       "      <td>3.418700</td>\n",
       "    </tr>\n",
       "    <tr>\n",
       "      <th>t_read_memblade_measured</th>\n",
       "      <td>NaN</td>\n",
       "      <td>0.013845</td>\n",
       "      <td>0.011609</td>\n",
       "      <td>0.037618</td>\n",
       "    </tr>\n",
       "    <tr>\n",
       "      <th>t_trap</th>\n",
       "      <td>0.000000</td>\n",
       "      <td>0.015123</td>\n",
       "      <td>0.013284</td>\n",
       "      <td>0.026394</td>\n",
       "    </tr>\n",
       "  </tbody>\n",
       "</table>\n",
       "</div>"
      ],
      "text/plain": [
       "                               PFA      rvSW  rvRamSwap  x86RamSwap\n",
       "measurement                                                        \n",
       "t_miss                    0.021082  0.099988   0.173761    3.418700\n",
       "t_read_memblade_measured       NaN  0.013845   0.011609    0.037618\n",
       "t_trap                    0.000000  0.015123   0.013284    0.026394"
      ]
     },
     "execution_count": 15,
     "metadata": {},
     "output_type": "execute_result"
    }
   ],
   "source": [
    "micro.std * 1E6"
   ]
  },
  {
   "cell_type": "markdown",
   "metadata": {},
   "source": [
    "# Facts and Figures"
   ]
  },
  {
   "cell_type": "markdown",
   "metadata": {},
   "source": [
    "## Fault Timing Breakdown"
   ]
  },
  {
   "cell_type": "code",
   "execution_count": 16,
   "metadata": {
    "collapsed": true
   },
   "outputs": [],
   "source": [
    "def breakdown_fault(df):\n",
    "    tmp = df.transpose().fillna(0)\n",
    "    ft = pd.DataFrame(index=tmp.index.copy())\n",
    "    ft['Trap'] = tmp['t_trap']\n",
    "    ft['Proc'] = tmp['t_fetch'] - tmp['t_trap']\n",
    "    # This is measured directly in VCS\n",
    "    ft['Proc']['PFA'] = 1 / 3.2\n",
    "    ft['NIC'] = tmp['t_read_memblade_measured'] - tmp['t_read_switch_memblade_theory']\n",
    "    ft['NIC']['PFA'] = tmp['t_miss']['PFA'] - ft['Trap']['PFA'] - ft['Proc']['PFA'] - tmp['t_read_switch_memblade_theory']['PFA']\n",
    "    ft['MemBlade'] = tmp['t_read_switch_memblade_theory']\n",
    "    #This is an optimistic memory blade (~1us)\n",
    "    #ft['MemBlade'] = 1129\n",
    "    return ft\n",
    "    \n",
    "\n",
    "#pfa_fetchtime_mean = breakdown_fault(micro_mean)\n",
    "#pfa_fetchtime_std  = breakdown_fault(micro_std)\n",
    "#pfa_fetchtime_std['MemBlade'] = 0\n",
    "\n",
    "#print(pfa_fetchtime_mean.sum(axis=1)['SW'] / pfa_fetchtime_mean.sum(axis=1)['PFA'])\n",
    "#ax = pfa_fetchtime_mean.plot(kind='bar', stacked=True, yerr=pfa_fetchtime_std, legend=False)\n",
    "#ax = pfa_fetchtime_mean.plot(kind='bar', stacked=True, legend=False)\n",
    "#hatches = ['o', 'o', 'x', 'x', '//', '//','|','|']\n",
    "#for i,bar in enumerate(ax.patches):\n",
    "#    bar.set_hatch(hatches[i])\n",
    "\n",
    "#ax.legend()\n",
    "#ax.set_ylabel('Time (ns)')\n",
    "#plt.savefig('figs/fetch_breakdown.png', dpi=300, bbox_inches='tight')\n",
    "#plt.show()"
   ]
  },
  {
   "cell_type": "markdown",
   "metadata": {},
   "source": [
    "## Page Faults"
   ]
  },
  {
   "cell_type": "markdown",
   "metadata": {},
   "source": [
    "### ??"
   ]
  },
  {
   "cell_type": "code",
   "execution_count": 17,
   "metadata": {},
   "outputs": [
    {
     "data": {
      "image/png": "[encoded data removed]",
      "text/plain": [
       "<Figure size 432x288 with 1 Axes>"
      ]
     },
     "metadata": {},
     "output_type": "display_data"
    },
    {
     "data": {
      "text/html": [
       "<div>\n",
       "<style scoped>\n",
       "    .dataframe tbody tr th:only-of-type {\n",
       "        vertical-align: middle;\n",
       "    }\n",
       "\n",
       "    .dataframe tbody tr th {\n",
       "        vertical-align: top;\n",
       "    }\n",
       "\n",
       "    .dataframe thead th {\n",
       "        text-align: right;\n",
       "    }\n",
       "</style>\n",
       "<table border=\"1\" class=\"dataframe\">\n",
       "  <thead>\n",
       "    <tr style=\"text-align: right;\">\n",
       "      <th></th>\n",
       "      <th>python</th>\n",
       "      <th>linpack</th>\n",
       "      <th>genome</th>\n",
       "    </tr>\n",
       "    <tr>\n",
       "      <th>size</th>\n",
       "      <th></th>\n",
       "      <th></th>\n",
       "      <th></th>\n",
       "    </tr>\n",
       "  </thead>\n",
       "  <tbody>\n",
       "    <tr>\n",
       "      <th>100.0</th>\n",
       "      <td>48.638889</td>\n",
       "      <td>63.000000</td>\n",
       "      <td>38.000000</td>\n",
       "    </tr>\n",
       "    <tr>\n",
       "      <th>75.0</th>\n",
       "      <td>57.349650</td>\n",
       "      <td>58.666667</td>\n",
       "      <td>64.176425</td>\n",
       "    </tr>\n",
       "    <tr>\n",
       "      <th>50.0</th>\n",
       "      <td>65.380863</td>\n",
       "      <td>88.000000</td>\n",
       "      <td>65.781001</td>\n",
       "    </tr>\n",
       "    <tr>\n",
       "      <th>25.0</th>\n",
       "      <td>64.504080</td>\n",
       "      <td>90.690778</td>\n",
       "      <td>63.656595</td>\n",
       "    </tr>\n",
       "  </tbody>\n",
       "</table>\n",
       "</div>"
      ],
      "text/plain": [
       "          python    linpack     genome\n",
       "size                                  \n",
       "100.0  48.638889  63.000000  38.000000\n",
       "75.0   57.349650  58.666667  64.176425\n",
       "50.0   65.380863  88.000000  65.781001\n",
       "25.0   64.504080  90.690778  63.656595"
      ]
     },
     "execution_count": 17,
     "metadata": {},
     "output_type": "execute_result"
    }
   ],
   "source": [
    "swap_pf_bench = [(base_res[Bname].mean['n_swapfault'] / pfa_res[Bname].mean['n_pfa_fault']).rename(Bname)\n",
    "                 for Bname in base_res.keys()]\n",
    "swap_pf = pd.concat(swap_pf_bench, axis='columns')\n",
    "\n",
    "ax = swap_pf.plot.bar(title='Swap Faults')\n",
    "make_hatches(ax, swap_pf)\n",
    "plt.show()\n",
    "swap_pf"
   ]
  },
  {
   "cell_type": "code",
   "execution_count": 18,
   "metadata": {},
   "outputs": [
    {
     "data": {
      "image/png": "[encoded data removed]",
      "text/plain": [
       "<Figure size 432x288 with 1 Axes>"
      ]
     },
     "metadata": {},
     "output_type": "display_data"
    }
   ],
   "source": [
    "total_pf_bench = [(base_res[Bname].mean['n_fault'] / pfa_res[Bname].mean['n_fault']).rename(Bname)\n",
    "                 for Bname in base_res.keys()]\n",
    "total_pf = pd.concat(total_pf_bench, axis='columns')\n",
    "\n",
    "\n",
    "ax = total_pf.plot.bar(title='Total Faults')\n",
    "make_hatches(ax, total_pf)\n",
    "plt.show()"
   ]
  },
  {
   "cell_type": "code",
   "execution_count": 19,
   "metadata": {},
   "outputs": [
    {
     "name": "stdout",
     "output_type": "stream",
     "text": [
      "24\n"
     ]
    },
    {
     "data": {
      "image/png": "[encoded data removed]",
      "text/plain": [
       "<Figure size 432x288 with 1 Axes>"
      ]
     },
     "metadata": {},
     "output_type": "display_data"
    },
    {
     "data": {
      "text/html": [
       "<div>\n",
       "<style scoped>\n",
       "    .dataframe tbody tr th:only-of-type {\n",
       "        vertical-align: middle;\n",
       "    }\n",
       "\n",
       "    .dataframe tbody tr th {\n",
       "        vertical-align: top;\n",
       "    }\n",
       "\n",
       "    .dataframe thead th {\n",
       "        text-align: right;\n",
       "    }\n",
       "</style>\n",
       "<table border=\"1\" class=\"dataframe\">\n",
       "  <thead>\n",
       "    <tr style=\"text-align: right;\">\n",
       "      <th></th>\n",
       "      <th>python SW</th>\n",
       "      <th>linpack SW</th>\n",
       "      <th>genome SW</th>\n",
       "      <th>python PFA</th>\n",
       "      <th>linpack PFA</th>\n",
       "      <th>genome PFA</th>\n",
       "    </tr>\n",
       "    <tr>\n",
       "      <th>size</th>\n",
       "      <th></th>\n",
       "      <th></th>\n",
       "      <th></th>\n",
       "      <th></th>\n",
       "      <th></th>\n",
       "      <th></th>\n",
       "    </tr>\n",
       "  </thead>\n",
       "  <tbody>\n",
       "    <tr>\n",
       "      <th>100.0</th>\n",
       "      <td>0.058774</td>\n",
       "      <td>0.022520</td>\n",
       "      <td>0.021234</td>\n",
       "      <td>0.001126</td>\n",
       "      <td>0.000354</td>\n",
       "      <td>0.000516</td>\n",
       "    </tr>\n",
       "    <tr>\n",
       "      <th>75.0</th>\n",
       "      <td>0.131178</td>\n",
       "      <td>0.032164</td>\n",
       "      <td>0.136658</td>\n",
       "      <td>0.002667</td>\n",
       "      <td>0.000561</td>\n",
       "      <td>0.002562</td>\n",
       "    </tr>\n",
       "    <tr>\n",
       "      <th>50.0</th>\n",
       "      <td>0.227878</td>\n",
       "      <td>0.029422</td>\n",
       "      <td>0.136446</td>\n",
       "      <td>0.004893</td>\n",
       "      <td>0.000354</td>\n",
       "      <td>0.002448</td>\n",
       "    </tr>\n",
       "    <tr>\n",
       "      <th>25.0</th>\n",
       "      <td>0.250020</td>\n",
       "      <td>0.444045</td>\n",
       "      <td>0.395334</td>\n",
       "      <td>0.005574</td>\n",
       "      <td>0.018586</td>\n",
       "      <td>0.010642</td>\n",
       "    </tr>\n",
       "  </tbody>\n",
       "</table>\n",
       "</div>"
      ],
      "text/plain": [
       "       python SW  linpack SW  genome SW  python PFA  linpack PFA  genome PFA\n",
       "size                                                                        \n",
       "100.0   0.058774    0.022520   0.021234    0.001126     0.000354    0.000516\n",
       "75.0    0.131178    0.032164   0.136658    0.002667     0.000561    0.002562\n",
       "50.0    0.227878    0.029422   0.136446    0.004893     0.000354    0.002448\n",
       "25.0    0.250020    0.444045   0.395334    0.005574     0.018586    0.010642"
      ]
     },
     "execution_count": 19,
     "metadata": {},
     "output_type": "execute_result"
    }
   ],
   "source": [
    "swap_fault_bench = [(base_res[Bname].mean['n_swapfault'] / base_res[Bname].mean['n_fault']).rename(Bname + \" SW\")\n",
    "                 for Bname in base_res.keys()]\n",
    "swap_fault_bench += [(pfa_res[Bname].mean['n_pfa_fault'] / pfa_res[Bname].mean['n_fault']).rename(Bname + \" PFA\")\n",
    "                 for Bname in base_res.keys()]\n",
    "swap_fault = pd.concat(swap_fault_bench, axis='columns')\n",
    "\n",
    "ax = (swap_fault * 100).plot(kind='bar', legend=False, align='center', width=1)\n",
    "print(len(ax.patches))\n",
    "make_hatches(ax, swap_fault)\n",
    "\n",
    "ax.legend(fontsize=12, loc='center left', bbox_to_anchor=(1, 0.5))\n",
    "ax.set_ylabel('Percent Paging-Related')\n",
    "ax.set_xlabel('Percent Memory Local')\n",
    "plt.savefig('figs/swapfault.png', dpi=300, bbox_inches='tight')\n",
    "plt.show()\n",
    "swap_fault"
   ]
  },
  {
   "cell_type": "markdown",
   "metadata": {},
   "source": [
    "## Bookkeeping Time"
   ]
  },
  {
   "cell_type": "markdown",
   "metadata": {},
   "source": [
    "### PFA Savings in bookkeeping time"
   ]
  },
  {
   "cell_type": "code",
   "execution_count": 20,
   "metadata": {},
   "outputs": [
    {
     "name": "stdout",
     "output_type": "stream",
     "text": [
      "Average Slowdown in Bookkeeping time (pfa / sw)\n",
      "python: 0.7481755356333696\n",
      "linpack: 0.5617444858702855\n",
      "genome: 0.7964835654031587\n"
     ]
    }
   ],
   "source": [
    "print(\"Average Slowdown in Bookkeeping time (pfa / sw)\")\n",
    "for Bname in pfa_res.keys():\n",
    "    print(Bname + \": \" + str(pfa_res[Bname].mean['t_bookkeeping'].mean() / base_res[Bname].mean['t_bookkeeping'].mean()))"
   ]
  },
  {
   "cell_type": "code",
   "execution_count": 21,
   "metadata": {},
   "outputs": [
    {
     "data": {
      "image/png": "[encoded data removed]",
      "text/plain": [
       "<Figure size 432x288 with 1 Axes>"
      ]
     },
     "metadata": {},
     "output_type": "display_data"
    },
    {
     "data": {
      "text/html": [
       "<div>\n",
       "<style scoped>\n",
       "    .dataframe tbody tr th:only-of-type {\n",
       "        vertical-align: middle;\n",
       "    }\n",
       "\n",
       "    .dataframe tbody tr th {\n",
       "        vertical-align: top;\n",
       "    }\n",
       "\n",
       "    .dataframe thead th {\n",
       "        text-align: right;\n",
       "    }\n",
       "</style>\n",
       "<table border=\"1\" class=\"dataframe\">\n",
       "  <thead>\n",
       "    <tr style=\"text-align: right;\">\n",
       "      <th></th>\n",
       "      <th>python</th>\n",
       "      <th>linpack</th>\n",
       "      <th>genome</th>\n",
       "    </tr>\n",
       "    <tr>\n",
       "      <th>size</th>\n",
       "      <th></th>\n",
       "      <th></th>\n",
       "      <th></th>\n",
       "    </tr>\n",
       "  </thead>\n",
       "  <tbody>\n",
       "    <tr>\n",
       "      <th>100.0</th>\n",
       "      <td>1.334280</td>\n",
       "      <td>0.804638</td>\n",
       "      <td>1.489702</td>\n",
       "    </tr>\n",
       "    <tr>\n",
       "      <th>75.0</th>\n",
       "      <td>1.679427</td>\n",
       "      <td>3.153871</td>\n",
       "      <td>1.268191</td>\n",
       "    </tr>\n",
       "    <tr>\n",
       "      <th>50.0</th>\n",
       "      <td>1.306860</td>\n",
       "      <td>1.241297</td>\n",
       "      <td>1.269063</td>\n",
       "    </tr>\n",
       "    <tr>\n",
       "      <th>25.0</th>\n",
       "      <td>1.328745</td>\n",
       "      <td>1.780713</td>\n",
       "      <td>1.253530</td>\n",
       "    </tr>\n",
       "  </tbody>\n",
       "</table>\n",
       "</div>"
      ],
      "text/plain": [
       "         python   linpack    genome\n",
       "size                               \n",
       "100.0  1.334280  0.804638  1.489702\n",
       "75.0   1.679427  3.153871  1.268191\n",
       "50.0   1.306860  1.241297  1.269063\n",
       "25.0   1.328745  1.780713  1.253530"
      ]
     },
     "execution_count": 21,
     "metadata": {},
     "output_type": "execute_result"
    }
   ],
   "source": [
    "bk_bench = [(base_res[Bname].mean['t_bookkeeping'] / pfa_res[Bname].mean['t_bookkeeping']).rename(Bname)\n",
    "                 for Bname in base_res.keys()]\n",
    "bk = pd.concat(bk_bench, axis='columns')\n",
    "\n",
    "ax = bk.plot.bar(title='Reduction in Bookkeeping time Due to PFA')\n",
    "make_hatches(ax, bk)\n",
    "ax.legend(fontsize=14, loc='center left', bbox_to_anchor=(1, 0.5))\n",
    "ax.set_ylabel('Speedup')\n",
    "ax.set_xlabel('Percent Memory Local')\n",
    "\n",
    "plt.show()\n",
    "bk"
   ]
  },
  {
   "cell_type": "markdown",
   "metadata": {},
   "source": [
    "### Time Spent In Bookkeeping"
   ]
  },
  {
   "cell_type": "code",
   "execution_count": 22,
   "metadata": {},
   "outputs": [
    {
     "data": {
      "image/png": "[encoded data removed]",
      "text/plain": [
       "<Figure size 432x288 with 1 Axes>"
      ]
     },
     "metadata": {},
     "output_type": "display_data"
    },
    {
     "data": {
      "text/html": [
       "<div>\n",
       "<style scoped>\n",
       "    .dataframe tbody tr th:only-of-type {\n",
       "        vertical-align: middle;\n",
       "    }\n",
       "\n",
       "    .dataframe tbody tr th {\n",
       "        vertical-align: top;\n",
       "    }\n",
       "\n",
       "    .dataframe thead th {\n",
       "        text-align: right;\n",
       "    }\n",
       "</style>\n",
       "<table border=\"1\" class=\"dataframe\">\n",
       "  <thead>\n",
       "    <tr style=\"text-align: right;\">\n",
       "      <th></th>\n",
       "      <th>python SW</th>\n",
       "      <th>linpack SW</th>\n",
       "      <th>genome SW</th>\n",
       "      <th>python PFA</th>\n",
       "      <th>linpack PFA</th>\n",
       "      <th>genome PFA</th>\n",
       "    </tr>\n",
       "    <tr>\n",
       "      <th>size</th>\n",
       "      <th></th>\n",
       "      <th></th>\n",
       "      <th></th>\n",
       "      <th></th>\n",
       "      <th></th>\n",
       "      <th></th>\n",
       "    </tr>\n",
       "  </thead>\n",
       "  <tbody>\n",
       "    <tr>\n",
       "      <th>100.0</th>\n",
       "      <td>0.003896</td>\n",
       "      <td>0.001325</td>\n",
       "      <td>0.002457</td>\n",
       "      <td>0.003140</td>\n",
       "      <td>0.001643</td>\n",
       "      <td>0.001603</td>\n",
       "    </tr>\n",
       "    <tr>\n",
       "      <th>75.0</th>\n",
       "      <td>0.028191</td>\n",
       "      <td>0.005147</td>\n",
       "      <td>0.164666</td>\n",
       "      <td>0.018056</td>\n",
       "      <td>0.001631</td>\n",
       "      <td>0.131251</td>\n",
       "    </tr>\n",
       "    <tr>\n",
       "      <th>50.0</th>\n",
       "      <td>0.086432</td>\n",
       "      <td>0.003560</td>\n",
       "      <td>0.476781</td>\n",
       "      <td>0.070406</td>\n",
       "      <td>0.002875</td>\n",
       "      <td>0.402943</td>\n",
       "    </tr>\n",
       "    <tr>\n",
       "      <th>25.0</th>\n",
       "      <td>0.234282</td>\n",
       "      <td>0.719957</td>\n",
       "      <td>0.820041</td>\n",
       "      <td>0.211007</td>\n",
       "      <td>0.551604</td>\n",
       "      <td>0.702925</td>\n",
       "    </tr>\n",
       "  </tbody>\n",
       "</table>\n",
       "</div>"
      ],
      "text/plain": [
       "       python SW  linpack SW  genome SW  python PFA  linpack PFA  genome PFA\n",
       "size                                                                        \n",
       "100.0   0.003896    0.001325   0.002457    0.003140     0.001643    0.001603\n",
       "75.0    0.028191    0.005147   0.164666    0.018056     0.001631    0.131251\n",
       "50.0    0.086432    0.003560   0.476781    0.070406     0.002875    0.402943\n",
       "25.0    0.234282    0.719957   0.820041    0.211007     0.551604    0.702925"
      ]
     },
     "execution_count": 22,
     "metadata": {},
     "output_type": "execute_result"
    }
   ],
   "source": [
    "bk_bench = [(base_res[Bname].mean['t_bookkeeping'] / base_res[Bname].mean['t_run']).rename(Bname + \" SW\")\n",
    "                 for Bname in base_res.keys()]\n",
    "bk_bench += [(pfa_res[Bname].mean['t_bookkeeping'] / pfa_res[Bname].mean['t_run']).rename(Bname + \" PFA\")\n",
    "                 for Bname in base_res.keys()]\n",
    "bk = pd.concat(bk_bench, axis='columns')\n",
    "\n",
    "ax = bk.plot(kind='bar', legend=False, align='center', width=0.9)\n",
    "make_hatches(ax, bk)\n",
    "\n",
    "ax.legend(fontsize=12, loc='center left', bbox_to_anchor=(1, 0.5))\n",
    "ax.set_ylabel('Fraction of Time Spent Bookkeeping')\n",
    "ax.set_xlabel('Percent Memory Local')\n",
    "plt.savefig('figs/bk_time.png', dpi=300, bbox_inches='tight')\n",
    "plt.show()\n",
    "bk"
   ]
  },
  {
   "cell_type": "markdown",
   "metadata": {
    "collapsed": true
   },
   "source": [
    "## End to End Performance"
   ]
  },
  {
   "cell_type": "code",
   "execution_count": 23,
   "metadata": {},
   "outputs": [
    {
     "data": {
      "image/png": "[encoded data removed]",
      "text/plain": [
       "<Figure size 432x288 with 1 Axes>"
      ]
     },
     "metadata": {},
     "output_type": "display_data"
    },
    {
     "data": {
      "text/html": [
       "<div>\n",
       "<style scoped>\n",
       "    .dataframe tbody tr th:only-of-type {\n",
       "        vertical-align: middle;\n",
       "    }\n",
       "\n",
       "    .dataframe tbody tr th {\n",
       "        vertical-align: top;\n",
       "    }\n",
       "\n",
       "    .dataframe thead th {\n",
       "        text-align: right;\n",
       "    }\n",
       "</style>\n",
       "<table border=\"1\" class=\"dataframe\">\n",
       "  <thead>\n",
       "    <tr style=\"text-align: right;\">\n",
       "      <th></th>\n",
       "      <th>python</th>\n",
       "      <th>linpack</th>\n",
       "      <th>genome</th>\n",
       "    </tr>\n",
       "    <tr>\n",
       "      <th>size</th>\n",
       "      <th></th>\n",
       "      <th></th>\n",
       "      <th></th>\n",
       "    </tr>\n",
       "  </thead>\n",
       "  <tbody>\n",
       "    <tr>\n",
       "      <th>100.0</th>\n",
       "      <td>7.559161</td>\n",
       "      <td>-0.281946</td>\n",
       "      <td>-2.820823</td>\n",
       "    </tr>\n",
       "    <tr>\n",
       "      <th>75.0</th>\n",
       "      <td>7.567655</td>\n",
       "      <td>-0.046161</td>\n",
       "      <td>1.084546</td>\n",
       "    </tr>\n",
       "    <tr>\n",
       "      <th>50.0</th>\n",
       "      <td>6.454340</td>\n",
       "      <td>0.244450</td>\n",
       "      <td>7.252632</td>\n",
       "    </tr>\n",
       "    <tr>\n",
       "      <th>25.0</th>\n",
       "      <td>19.673608</td>\n",
       "      <td>36.431587</td>\n",
       "      <td>7.450410</td>\n",
       "    </tr>\n",
       "  </tbody>\n",
       "</table>\n",
       "</div>"
      ],
      "text/plain": [
       "          python    linpack    genome\n",
       "size                                 \n",
       "100.0   7.559161  -0.281946 -2.820823\n",
       "75.0    7.567655  -0.046161  1.084546\n",
       "50.0    6.454340   0.244450  7.252632\n",
       "25.0   19.673608  36.431587  7.450410"
      ]
     },
     "execution_count": 23,
     "metadata": {},
     "output_type": "execute_result"
    }
   ],
   "source": [
    "g\n",
    "speedup"
   ]
  },
  {
   "cell_type": "code",
   "execution_count": 24,
   "metadata": {},
   "outputs": [
    {
     "data": {
      "image/png": "[encoded data removed]",
      "text/plain": [
       "<Figure size 432x288 with 1 Axes>"
      ]
     },
     "metadata": {},
     "output_type": "display_data"
    },
    {
     "data": {
      "text/html": [
       "<div>\n",
       "<style scoped>\n",
       "    .dataframe tbody tr th:only-of-type {\n",
       "        vertical-align: middle;\n",
       "    }\n",
       "\n",
       "    .dataframe tbody tr th {\n",
       "        vertical-align: top;\n",
       "    }\n",
       "\n",
       "    .dataframe thead th {\n",
       "        text-align: right;\n",
       "    }\n",
       "</style>\n",
       "<table border=\"1\" class=\"dataframe\">\n",
       "  <thead>\n",
       "    <tr style=\"text-align: right;\">\n",
       "      <th></th>\n",
       "      <th>genome PFA</th>\n",
       "      <th>genome SW</th>\n",
       "      <th>linpack PFA</th>\n",
       "      <th>linpack SW</th>\n",
       "      <th>python PFA</th>\n",
       "      <th>python SW</th>\n",
       "    </tr>\n",
       "    <tr>\n",
       "      <th>size</th>\n",
       "      <th></th>\n",
       "      <th></th>\n",
       "      <th></th>\n",
       "      <th></th>\n",
       "      <th></th>\n",
       "      <th></th>\n",
       "    </tr>\n",
       "  </thead>\n",
       "  <tbody>\n",
       "    <tr>\n",
       "      <th>100.0</th>\n",
       "      <td>1.000000</td>\n",
       "      <td>1.000000</td>\n",
       "      <td>1.000000</td>\n",
       "      <td>1.000000</td>\n",
       "      <td>1.000000</td>\n",
       "      <td>1.000000</td>\n",
       "    </tr>\n",
       "    <tr>\n",
       "      <th>75.0</th>\n",
       "      <td>1.245623</td>\n",
       "      <td>1.295681</td>\n",
       "      <td>0.933616</td>\n",
       "      <td>0.935823</td>\n",
       "      <td>1.027412</td>\n",
       "      <td>1.027493</td>\n",
       "    </tr>\n",
       "    <tr>\n",
       "      <th>50.0</th>\n",
       "      <td>2.435993</td>\n",
       "      <td>2.688505</td>\n",
       "      <td>0.958563</td>\n",
       "      <td>0.963623</td>\n",
       "      <td>1.159123</td>\n",
       "      <td>1.147217</td>\n",
       "    </tr>\n",
       "    <tr>\n",
       "      <th>25.0</th>\n",
       "      <td>11.260511</td>\n",
       "      <td>12.450677</td>\n",
       "      <td>3.314253</td>\n",
       "      <td>4.534473</td>\n",
       "      <td>2.373794</td>\n",
       "      <td>2.641156</td>\n",
       "    </tr>\n",
       "  </tbody>\n",
       "</table>\n",
       "</div>"
      ],
      "text/plain": [
       "       genome PFA  genome SW  linpack PFA  linpack SW  python PFA  python SW\n",
       "size                                                                        \n",
       "100.0    1.000000   1.000000     1.000000    1.000000    1.000000   1.000000\n",
       "75.0     1.245623   1.295681     0.933616    0.935823    1.027412   1.027493\n",
       "50.0     2.435993   2.688505     0.958563    0.963623    1.159123   1.147217\n",
       "25.0    11.260511  12.450677     3.314253    4.534473    2.373794   2.641156"
      ]
     },
     "execution_count": 24,
     "metadata": {},
     "output_type": "execute_result"
    }
   ],
   "source": [
    "sd_bench = [(base_res[Bname].mean['slowdown']).rename(Bname + \" SW\")\n",
    "                 for Bname in base_res.keys()]\n",
    "sd_bench += [(pfa_res[Bname].mean['slowdown']).rename(Bname + \" PFA\")\n",
    "                 for Bname in base_res.keys()]\n",
    "sd = pd.concat(sd_bench, axis='columns').sort_index(axis='columns')\n",
    "\n",
    "ax = sd.plot(kind='bar', legend=False, align='center', width=0.8)\n",
    "make_hatches(ax, sd)\n",
    "\n",
    "ax.legend(fontsize=12, loc='center left', bbox_to_anchor=(1, 0.5))\n",
    "ax.set_ylabel('Slowdown vs No Paging')\n",
    "ax.set_xlabel('Percent Memory Local')\n",
    "plt.savefig('figs/perf.png', dpi=300, bbox_inches='tight')\n",
    "plt.show()\n",
    "sd"
   ]
  }
 ],
 "metadata": {
  "kernelspec": {
   "display_name": "Python 2",
   "language": "python",
   "name": "python2"
  },
  "language_info": {
   "codemirror_mode": {
    "name": "ipython",
    "version": 3
   },
   "file_extension": ".py",
   "mimetype": "text/x-python",
   "name": "python",
   "nbconvert_exporter": "python",
   "pygments_lexer": "ipython3",
   "version": "3.6.3"
  }
 },
 "nbformat": 4,
 "nbformat_minor": 2
}
