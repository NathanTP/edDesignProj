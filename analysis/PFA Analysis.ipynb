{
 "cells": [
  {
   "cell_type": "markdown",
   "metadata": {
    "collapsed": true
   },
   "source": [
    "# Data Import and Cleaning"
   ]
  },
  {
   "cell_type": "markdown",
   "metadata": {},
   "source": [
    "## Full Run (q64)"
   ]
  },
  {
   "cell_type": "code",
   "execution_count": 1,
   "metadata": {},
   "outputs": [],
   "source": [
    "import pandas as pd\n",
    "import numpy as np\n",
    "import matplotlib\n",
    "import matplotlib.pyplot as plt\n",
    "import matplotlib.font_manager as font_manager\n",
    "import math\n"
   ]
  },
  {
   "cell_type": "code",
   "execution_count": 2,
   "metadata": {},
   "outputs": [],
   "source": [
    "# Color style similar to ppt color scheme\n",
    "plt.style.use('seaborn-colorblind')\n",
    "\n",
    "#Latex Default Font\n",
    "plt.rc('font', family='serif') \n",
    "plt.rc('font', serif='Latin Modern Roman')\n",
    "matplotlib.rcParams.update({'font.size': 16})"
   ]
  },
  {
   "cell_type": "code",
   "execution_count": 3,
   "metadata": {},
   "outputs": [
    {
     "data": {
      "text/html": [
       "<div>\n",
       "<style scoped>\n",
       "    .dataframe tbody tr th:only-of-type {\n",
       "        vertical-align: middle;\n",
       "    }\n",
       "\n",
       "    .dataframe tbody tr th {\n",
       "        vertical-align: top;\n",
       "    }\n",
       "\n",
       "    .dataframe thead th {\n",
       "        text-align: right;\n",
       "    }\n",
       "</style>\n",
       "<table border=\"1\" class=\"dataframe\">\n",
       "  <thead>\n",
       "    <tr style=\"text-align: right;\">\n",
       "      <th></th>\n",
       "      <th>Config</th>\n",
       "      <th>Benchmark</th>\n",
       "      <th>MemSize</th>\n",
       "      <th>RunTime</th>\n",
       "      <th>t_bookkeeping</th>\n",
       "      <th>t_rmem_write</th>\n",
       "      <th>t_rmem_read</th>\n",
       "      <th>n_fault</th>\n",
       "      <th>t_fault</th>\n",
       "      <th>n_swapfault</th>\n",
       "      <th>n_pfa_fault</th>\n",
       "      <th>n_early_newq</th>\n",
       "      <th>n_evicted</th>\n",
       "      <th>n_fetched</th>\n",
       "      <th>t_kpfad</th>\n",
       "      <th>n_kpfad</th>\n",
       "    </tr>\n",
       "  </thead>\n",
       "  <tbody>\n",
       "    <tr>\n",
       "      <th>0</th>\n",
       "      <td>pfa64_real</td>\n",
       "      <td>Qsort</td>\n",
       "      <td>100.0</td>\n",
       "      <td>1.966676</td>\n",
       "      <td>5.062500e-08</td>\n",
       "      <td>0.000000</td>\n",
       "      <td>0.0</td>\n",
       "      <td>15646</td>\n",
       "      <td>0.082899</td>\n",
       "      <td>0</td>\n",
       "      <td>0</td>\n",
       "      <td>0</td>\n",
       "      <td>0</td>\n",
       "      <td>0</td>\n",
       "      <td>0.0</td>\n",
       "      <td>0</td>\n",
       "    </tr>\n",
       "    <tr>\n",
       "      <th>1</th>\n",
       "      <td>pfa64_real</td>\n",
       "      <td>Qsort</td>\n",
       "      <td>75.0</td>\n",
       "      <td>2.632777</td>\n",
       "      <td>3.393620e-01</td>\n",
       "      <td>0.061589</td>\n",
       "      <td>0.0</td>\n",
       "      <td>67059</td>\n",
       "      <td>0.463003</td>\n",
       "      <td>0</td>\n",
       "      <td>485</td>\n",
       "      <td>4808</td>\n",
       "      <td>34371</td>\n",
       "      <td>30999</td>\n",
       "      <td>0.0</td>\n",
       "      <td>0</td>\n",
       "    </tr>\n",
       "    <tr>\n",
       "      <th>2</th>\n",
       "      <td>pfa64_real</td>\n",
       "      <td>Qsort</td>\n",
       "      <td>50.0</td>\n",
       "      <td>3.001175</td>\n",
       "      <td>5.139325e-01</td>\n",
       "      <td>0.095467</td>\n",
       "      <td>0.0</td>\n",
       "      <td>63275</td>\n",
       "      <td>0.679667</td>\n",
       "      <td>0</td>\n",
       "      <td>750</td>\n",
       "      <td>10668</td>\n",
       "      <td>55437</td>\n",
       "      <td>47979</td>\n",
       "      <td>0.0</td>\n",
       "      <td>0</td>\n",
       "    </tr>\n",
       "    <tr>\n",
       "      <th>3</th>\n",
       "      <td>pfa64_real</td>\n",
       "      <td>Qsort</td>\n",
       "      <td>25.0</td>\n",
       "      <td>3.616395</td>\n",
       "      <td>8.188448e-01</td>\n",
       "      <td>0.187548</td>\n",
       "      <td>0.0</td>\n",
       "      <td>71021</td>\n",
       "      <td>1.042739</td>\n",
       "      <td>0</td>\n",
       "      <td>1190</td>\n",
       "      <td>23371</td>\n",
       "      <td>87785</td>\n",
       "      <td>76202</td>\n",
       "      <td>0.0</td>\n",
       "      <td>0</td>\n",
       "    </tr>\n",
       "    <tr>\n",
       "      <th>4</th>\n",
       "      <td>pfa64_real</td>\n",
       "      <td>Genome</td>\n",
       "      <td>100.0</td>\n",
       "      <td>1.280805</td>\n",
       "      <td>6.843750e-07</td>\n",
       "      <td>0.000000</td>\n",
       "      <td>0.0</td>\n",
       "      <td>20971</td>\n",
       "      <td>0.157918</td>\n",
       "      <td>0</td>\n",
       "      <td>0</td>\n",
       "      <td>8</td>\n",
       "      <td>0</td>\n",
       "      <td>0</td>\n",
       "      <td>0.0</td>\n",
       "      <td>0</td>\n",
       "    </tr>\n",
       "    <tr>\n",
       "      <th>5</th>\n",
       "      <td>pfa64_real</td>\n",
       "      <td>Genome</td>\n",
       "      <td>75.0</td>\n",
       "      <td>1.149646</td>\n",
       "      <td>6.775204e-02</td>\n",
       "      <td>0.011842</td>\n",
       "      <td>0.0</td>\n",
       "      <td>48674</td>\n",
       "      <td>0.172773</td>\n",
       "      <td>0</td>\n",
       "      <td>83</td>\n",
       "      <td>57</td>\n",
       "      <td>8481</td>\n",
       "      <td>5281</td>\n",
       "      <td>0.0</td>\n",
       "      <td>0</td>\n",
       "    </tr>\n",
       "    <tr>\n",
       "      <th>6</th>\n",
       "      <td>pfa64_real</td>\n",
       "      <td>Genome</td>\n",
       "      <td>50.0</td>\n",
       "      <td>2.096780</td>\n",
       "      <td>4.973038e-01</td>\n",
       "      <td>0.072377</td>\n",
       "      <td>0.0</td>\n",
       "      <td>302931</td>\n",
       "      <td>0.773857</td>\n",
       "      <td>0</td>\n",
       "      <td>628</td>\n",
       "      <td>5933</td>\n",
       "      <td>47511</td>\n",
       "      <td>40182</td>\n",
       "      <td>0.0</td>\n",
       "      <td>0</td>\n",
       "    </tr>\n",
       "    <tr>\n",
       "      <th>7</th>\n",
       "      <td>pfa64_real</td>\n",
       "      <td>Genome</td>\n",
       "      <td>25.0</td>\n",
       "      <td>13.774580</td>\n",
       "      <td>6.877112e+00</td>\n",
       "      <td>1.604336</td>\n",
       "      <td>0.0</td>\n",
       "      <td>917568</td>\n",
       "      <td>7.628247</td>\n",
       "      <td>0</td>\n",
       "      <td>9836</td>\n",
       "      <td>42572</td>\n",
       "      <td>640934</td>\n",
       "      <td>629528</td>\n",
       "      <td>0.0</td>\n",
       "      <td>0</td>\n",
       "    </tr>\n",
       "    <tr>\n",
       "      <th>8</th>\n",
       "      <td>sw_real</td>\n",
       "      <td>Qsort</td>\n",
       "      <td>100.0</td>\n",
       "      <td>1.956014</td>\n",
       "      <td>0.000000e+00</td>\n",
       "      <td>0.000000</td>\n",
       "      <td>0.0</td>\n",
       "      <td>15646</td>\n",
       "      <td>0.069127</td>\n",
       "      <td>0</td>\n",
       "      <td>0</td>\n",
       "      <td>0</td>\n",
       "      <td>0</td>\n",
       "      <td>0</td>\n",
       "      <td>0.0</td>\n",
       "      <td>0</td>\n",
       "    </tr>\n",
       "    <tr>\n",
       "      <th>9</th>\n",
       "      <td>sw_real</td>\n",
       "      <td>Qsort</td>\n",
       "      <td>75.0</td>\n",
       "      <td>3.386101</td>\n",
       "      <td>8.125450e-01</td>\n",
       "      <td>0.000000</td>\n",
       "      <td>0.0</td>\n",
       "      <td>102578</td>\n",
       "      <td>1.019956</td>\n",
       "      <td>30919</td>\n",
       "      <td>0</td>\n",
       "      <td>0</td>\n",
       "      <td>34296</td>\n",
       "      <td>0</td>\n",
       "      <td>0.0</td>\n",
       "      <td>0</td>\n",
       "    </tr>\n",
       "    <tr>\n",
       "      <th>10</th>\n",
       "      <td>sw_real</td>\n",
       "      <td>Qsort</td>\n",
       "      <td>50.0</td>\n",
       "      <td>4.009078</td>\n",
       "      <td>1.297287e+00</td>\n",
       "      <td>0.000000</td>\n",
       "      <td>0.0</td>\n",
       "      <td>121630</td>\n",
       "      <td>1.603330</td>\n",
       "      <td>48065</td>\n",
       "      <td>0</td>\n",
       "      <td>0</td>\n",
       "      <td>55555</td>\n",
       "      <td>0</td>\n",
       "      <td>0.0</td>\n",
       "      <td>0</td>\n",
       "    </tr>\n",
       "    <tr>\n",
       "      <th>11</th>\n",
       "      <td>sw_real</td>\n",
       "      <td>Qsort</td>\n",
       "      <td>25.0</td>\n",
       "      <td>4.978240</td>\n",
       "      <td>2.056871e+00</td>\n",
       "      <td>0.000000</td>\n",
       "      <td>0.0</td>\n",
       "      <td>170478</td>\n",
       "      <td>2.505841</td>\n",
       "      <td>76474</td>\n",
       "      <td>0</td>\n",
       "      <td>0</td>\n",
       "      <td>88059</td>\n",
       "      <td>0</td>\n",
       "      <td>0.0</td>\n",
       "      <td>0</td>\n",
       "    </tr>\n",
       "    <tr>\n",
       "      <th>12</th>\n",
       "      <td>sw_real</td>\n",
       "      <td>Genome</td>\n",
       "      <td>100.0</td>\n",
       "      <td>1.266928</td>\n",
       "      <td>0.000000e+00</td>\n",
       "      <td>0.000000</td>\n",
       "      <td>0.0</td>\n",
       "      <td>21376</td>\n",
       "      <td>0.145763</td>\n",
       "      <td>0</td>\n",
       "      <td>0</td>\n",
       "      <td>0</td>\n",
       "      <td>0</td>\n",
       "      <td>0</td>\n",
       "      <td>0.0</td>\n",
       "      <td>0</td>\n",
       "    </tr>\n",
       "    <tr>\n",
       "      <th>13</th>\n",
       "      <td>sw_real</td>\n",
       "      <td>Genome</td>\n",
       "      <td>75.0</td>\n",
       "      <td>1.588755</td>\n",
       "      <td>1.572170e-01</td>\n",
       "      <td>0.000000</td>\n",
       "      <td>0.0</td>\n",
       "      <td>55695</td>\n",
       "      <td>0.328941</td>\n",
       "      <td>5292</td>\n",
       "      <td>0</td>\n",
       "      <td>0</td>\n",
       "      <td>8525</td>\n",
       "      <td>0</td>\n",
       "      <td>0.0</td>\n",
       "      <td>0</td>\n",
       "    </tr>\n",
       "    <tr>\n",
       "      <th>14</th>\n",
       "      <td>sw_real</td>\n",
       "      <td>Genome</td>\n",
       "      <td>50.0</td>\n",
       "      <td>2.943462</td>\n",
       "      <td>1.122873e+00</td>\n",
       "      <td>0.000000</td>\n",
       "      <td>0.0</td>\n",
       "      <td>352478</td>\n",
       "      <td>1.555600</td>\n",
       "      <td>41282</td>\n",
       "      <td>0</td>\n",
       "      <td>0</td>\n",
       "      <td>48583</td>\n",
       "      <td>0</td>\n",
       "      <td>0.0</td>\n",
       "      <td>0</td>\n",
       "    </tr>\n",
       "    <tr>\n",
       "      <th>15</th>\n",
       "      <td>sw_real</td>\n",
       "      <td>Genome</td>\n",
       "      <td>25.0</td>\n",
       "      <td>16.419757</td>\n",
       "      <td>1.297161e+01</td>\n",
       "      <td>0.000000</td>\n",
       "      <td>0.0</td>\n",
       "      <td>1505927</td>\n",
       "      <td>14.354997</td>\n",
       "      <td>576464</td>\n",
       "      <td>0</td>\n",
       "      <td>0</td>\n",
       "      <td>587877</td>\n",
       "      <td>0</td>\n",
       "      <td>0.0</td>\n",
       "      <td>0</td>\n",
       "    </tr>\n",
       "    <tr>\n",
       "      <th>16</th>\n",
       "      <td>pfa64_switch</td>\n",
       "      <td>Qsort</td>\n",
       "      <td>75.0</td>\n",
       "      <td>2.503379</td>\n",
       "      <td>3.430710e-01</td>\n",
       "      <td>0.059550</td>\n",
       "      <td>0.0</td>\n",
       "      <td>67013</td>\n",
       "      <td>0.465682</td>\n",
       "      <td>0</td>\n",
       "      <td>485</td>\n",
       "      <td>4776</td>\n",
       "      <td>34379</td>\n",
       "      <td>31022</td>\n",
       "      <td>0.0</td>\n",
       "      <td>0</td>\n",
       "    </tr>\n",
       "    <tr>\n",
       "      <th>17</th>\n",
       "      <td>pfa64_switch</td>\n",
       "      <td>Qsort</td>\n",
       "      <td>50.0</td>\n",
       "      <td>2.810698</td>\n",
       "      <td>5.242136e-01</td>\n",
       "      <td>0.091702</td>\n",
       "      <td>0.0</td>\n",
       "      <td>63366</td>\n",
       "      <td>0.690853</td>\n",
       "      <td>0</td>\n",
       "      <td>750</td>\n",
       "      <td>10629</td>\n",
       "      <td>55485</td>\n",
       "      <td>47991</td>\n",
       "      <td>0.0</td>\n",
       "      <td>0</td>\n",
       "    </tr>\n",
       "    <tr>\n",
       "      <th>18</th>\n",
       "      <td>pfa64_switch</td>\n",
       "      <td>Qsort</td>\n",
       "      <td>25.0</td>\n",
       "      <td>3.296092</td>\n",
       "      <td>8.237874e-01</td>\n",
       "      <td>0.187159</td>\n",
       "      <td>0.0</td>\n",
       "      <td>70543</td>\n",
       "      <td>1.045243</td>\n",
       "      <td>0</td>\n",
       "      <td>1189</td>\n",
       "      <td>23039</td>\n",
       "      <td>87704</td>\n",
       "      <td>76121</td>\n",
       "      <td>0.0</td>\n",
       "      <td>0</td>\n",
       "    </tr>\n",
       "    <tr>\n",
       "      <th>19</th>\n",
       "      <td>pfa64_switch</td>\n",
       "      <td>Genome</td>\n",
       "      <td>75.0</td>\n",
       "      <td>1.128883</td>\n",
       "      <td>6.754043e-02</td>\n",
       "      <td>0.011525</td>\n",
       "      <td>0.0</td>\n",
       "      <td>48737</td>\n",
       "      <td>0.172490</td>\n",
       "      <td>0</td>\n",
       "      <td>82</td>\n",
       "      <td>52</td>\n",
       "      <td>8431</td>\n",
       "      <td>5212</td>\n",
       "      <td>0.0</td>\n",
       "      <td>0</td>\n",
       "    </tr>\n",
       "    <tr>\n",
       "      <th>20</th>\n",
       "      <td>pfa64_switch</td>\n",
       "      <td>Genome</td>\n",
       "      <td>50.0</td>\n",
       "      <td>1.920063</td>\n",
       "      <td>4.920337e-01</td>\n",
       "      <td>0.071774</td>\n",
       "      <td>0.0</td>\n",
       "      <td>300982</td>\n",
       "      <td>0.766597</td>\n",
       "      <td>0</td>\n",
       "      <td>628</td>\n",
       "      <td>5907</td>\n",
       "      <td>47538</td>\n",
       "      <td>40168</td>\n",
       "      <td>0.0</td>\n",
       "      <td>0</td>\n",
       "    </tr>\n",
       "  </tbody>\n",
       "</table>\n",
       "</div>"
      ],
      "text/plain": [
       "          Config Benchmark  MemSize    RunTime  t_bookkeeping  t_rmem_write  \\\n",
       "0     pfa64_real     Qsort    100.0   1.966676   5.062500e-08      0.000000   \n",
       "1     pfa64_real     Qsort     75.0   2.632777   3.393620e-01      0.061589   \n",
       "2     pfa64_real     Qsort     50.0   3.001175   5.139325e-01      0.095467   \n",
       "3     pfa64_real     Qsort     25.0   3.616395   8.188448e-01      0.187548   \n",
       "4     pfa64_real    Genome    100.0   1.280805   6.843750e-07      0.000000   \n",
       "5     pfa64_real    Genome     75.0   1.149646   6.775204e-02      0.011842   \n",
       "6     pfa64_real    Genome     50.0   2.096780   4.973038e-01      0.072377   \n",
       "7     pfa64_real    Genome     25.0  13.774580   6.877112e+00      1.604336   \n",
       "8        sw_real     Qsort    100.0   1.956014   0.000000e+00      0.000000   \n",
       "9        sw_real     Qsort     75.0   3.386101   8.125450e-01      0.000000   \n",
       "10       sw_real     Qsort     50.0   4.009078   1.297287e+00      0.000000   \n",
       "11       sw_real     Qsort     25.0   4.978240   2.056871e+00      0.000000   \n",
       "12       sw_real    Genome    100.0   1.266928   0.000000e+00      0.000000   \n",
       "13       sw_real    Genome     75.0   1.588755   1.572170e-01      0.000000   \n",
       "14       sw_real    Genome     50.0   2.943462   1.122873e+00      0.000000   \n",
       "15       sw_real    Genome     25.0  16.419757   1.297161e+01      0.000000   \n",
       "16  pfa64_switch     Qsort     75.0   2.503379   3.430710e-01      0.059550   \n",
       "17  pfa64_switch     Qsort     50.0   2.810698   5.242136e-01      0.091702   \n",
       "18  pfa64_switch     Qsort     25.0   3.296092   8.237874e-01      0.187159   \n",
       "19  pfa64_switch    Genome     75.0   1.128883   6.754043e-02      0.011525   \n",
       "20  pfa64_switch    Genome     50.0   1.920063   4.920337e-01      0.071774   \n",
       "\n",
       "    t_rmem_read  n_fault    t_fault  n_swapfault  n_pfa_fault  n_early_newq  \\\n",
       "0           0.0    15646   0.082899            0            0             0   \n",
       "1           0.0    67059   0.463003            0          485          4808   \n",
       "2           0.0    63275   0.679667            0          750         10668   \n",
       "3           0.0    71021   1.042739            0         1190         23371   \n",
       "4           0.0    20971   0.157918            0            0             8   \n",
       "5           0.0    48674   0.172773            0           83            57   \n",
       "6           0.0   302931   0.773857            0          628          5933   \n",
       "7           0.0   917568   7.628247            0         9836         42572   \n",
       "8           0.0    15646   0.069127            0            0             0   \n",
       "9           0.0   102578   1.019956        30919            0             0   \n",
       "10          0.0   121630   1.603330        48065            0             0   \n",
       "11          0.0   170478   2.505841        76474            0             0   \n",
       "12          0.0    21376   0.145763            0            0             0   \n",
       "13          0.0    55695   0.328941         5292            0             0   \n",
       "14          0.0   352478   1.555600        41282            0             0   \n",
       "15          0.0  1505927  14.354997       576464            0             0   \n",
       "16          0.0    67013   0.465682            0          485          4776   \n",
       "17          0.0    63366   0.690853            0          750         10629   \n",
       "18          0.0    70543   1.045243            0         1189         23039   \n",
       "19          0.0    48737   0.172490            0           82            52   \n",
       "20          0.0   300982   0.766597            0          628          5907   \n",
       "\n",
       "    n_evicted  n_fetched  t_kpfad  n_kpfad  \n",
       "0           0          0      0.0        0  \n",
       "1       34371      30999      0.0        0  \n",
       "2       55437      47979      0.0        0  \n",
       "3       87785      76202      0.0        0  \n",
       "4           0          0      0.0        0  \n",
       "5        8481       5281      0.0        0  \n",
       "6       47511      40182      0.0        0  \n",
       "7      640934     629528      0.0        0  \n",
       "8           0          0      0.0        0  \n",
       "9       34296          0      0.0        0  \n",
       "10      55555          0      0.0        0  \n",
       "11      88059          0      0.0        0  \n",
       "12          0          0      0.0        0  \n",
       "13       8525          0      0.0        0  \n",
       "14      48583          0      0.0        0  \n",
       "15     587877          0      0.0        0  \n",
       "16      34379      31022      0.0        0  \n",
       "17      55485      47991      0.0        0  \n",
       "18      87704      76121      0.0        0  \n",
       "19       8431       5212      0.0        0  \n",
       "20      47538      40168      0.0        0  "
      ]
     },
     "execution_count": 3,
     "metadata": {},
     "output_type": "execute_result"
    }
   ],
   "source": [
    "res = pd.read_csv(\"raw/q64.csv\", header=0, comment='#')\n",
    "\n",
    "# Times from cycles to micro seconds\n",
    "res['RunTime'] = res['RunTime'] / 3.2E9\n",
    "res['t_bookkeeping'] = res['t_bookkeeping'] / 3.2E9\n",
    "res['t_rmem_write'] = res['t_rmem_write'] / 3.2E9\n",
    "res['t_rmem_read'] = res['t_rmem_read'] / 3.2E9\n",
    "res['t_fault'] = res['t_fault'] / 3.2E9\n",
    "res['t_kpfad'] = res['t_kpfad'] / 3.2E9\n",
    "\n",
    "# Size from absolute to \"%local\"\n",
    "res['MemSize'] = (res['MemSize'] / 64000000)*100\n",
    "res\n"
   ]
  },
  {
   "cell_type": "code",
   "execution_count": 4,
   "metadata": {},
   "outputs": [],
   "source": [
    "# Split by benchmark\n",
    "gen_pfa_res    = res.loc[res['Config'] == \"pfa64_real\"   ].loc[res['Benchmark'] == \"Genome\"].set_index('MemSize')\n",
    "gen_sw_res = res.loc[res['Config'] == \"sw_real\"].loc[res['Benchmark'] == \"Genome\"].set_index('MemSize')\n",
    "\n",
    "qsort_pfa_res = res.loc[res['Config'] == \"pfa64_real\"].loc[res['Benchmark'] == \"Qsort\"].set_index('MemSize')\n",
    "qsort_sw_res = res.loc[res['Config'] == \"sw_real\"].loc[res['Benchmark'] == \"Qsort\"].set_index('MemSize')"
   ]
  },
  {
   "cell_type": "code",
   "execution_count": 5,
   "metadata": {},
   "outputs": [],
   "source": [
    "# Normalize to the 100% case (Runtime now a \"Slowdown\")\n",
    "def NormalizeRuntime(r):\n",
    "    r['Slowdown'] = r['RunTime'] / r['RunTime'].loc[100]\n",
    "    return r.drop(100)\n",
    "\n",
    "gen_pfa_res =      NormalizeRuntime(gen_pfa_res)\n",
    "gen_sw_res =   NormalizeRuntime(gen_sw_res)\n",
    "qsort_pfa_res =    NormalizeRuntime(qsort_pfa_res)\n",
    "qsort_sw_res = NormalizeRuntime(qsort_sw_res)"
   ]
  },
  {
   "cell_type": "markdown",
   "metadata": {},
   "source": [
    "## Micro-Benchmarks and Measurements"
   ]
  },
  {
   "cell_type": "code",
   "execution_count": 6,
   "metadata": {},
   "outputs": [],
   "source": [
    "micro = pd.read_csv(\"raw/micro.csv\", header=0, comment='#')\n",
    "# Convert cycles to seconds\n",
    "micro['PFA'] = micro['PFA'] / 3.2\n",
    "micro['SW'] = micro['SW'] / 3.2\n",
    "micro_mean = micro.groupby('measurement').mean()\n",
    "micro_std = micro.groupby('measurement').std()"
   ]
  },
  {
   "cell_type": "markdown",
   "metadata": {},
   "source": [
    "### Mean:"
   ]
  },
  {
   "cell_type": "code",
   "execution_count": 7,
   "metadata": {},
   "outputs": [
    {
     "name": "stdout",
     "output_type": "stream",
     "text": [
      "0.2354347872092777\n",
      "0.8345484520974538\n"
     ]
    },
    {
     "data": {
      "text/html": [
       "<div>\n",
       "<style scoped>\n",
       "    .dataframe tbody tr th:only-of-type {\n",
       "        vertical-align: middle;\n",
       "    }\n",
       "\n",
       "    .dataframe tbody tr th {\n",
       "        vertical-align: top;\n",
       "    }\n",
       "\n",
       "    .dataframe thead th {\n",
       "        text-align: right;\n",
       "    }\n",
       "</style>\n",
       "<table border=\"1\" class=\"dataframe\">\n",
       "  <thead>\n",
       "    <tr style=\"text-align: right;\">\n",
       "      <th></th>\n",
       "      <th>PFA</th>\n",
       "      <th>SW</th>\n",
       "    </tr>\n",
       "    <tr>\n",
       "      <th>measurement</th>\n",
       "      <th></th>\n",
       "      <th></th>\n",
       "    </tr>\n",
       "  </thead>\n",
       "  <tbody>\n",
       "    <tr>\n",
       "      <th>t_fetch</th>\n",
       "      <td>NaN</td>\n",
       "      <td>9620.028409</td>\n",
       "    </tr>\n",
       "    <tr>\n",
       "      <th>t_miss</th>\n",
       "      <td>4436.093750</td>\n",
       "      <td>9783.187500</td>\n",
       "    </tr>\n",
       "    <tr>\n",
       "      <th>t_read_real</th>\n",
       "      <td>NaN</td>\n",
       "      <td>NaN</td>\n",
       "    </tr>\n",
       "    <tr>\n",
       "      <th>t_read_switch_memblade_measured</th>\n",
       "      <td>NaN</td>\n",
       "      <td>4814.573864</td>\n",
       "    </tr>\n",
       "    <tr>\n",
       "      <th>t_read_switch_memblade_theory</th>\n",
       "      <td>4088.437500</td>\n",
       "      <td>4088.437500</td>\n",
       "    </tr>\n",
       "    <tr>\n",
       "      <th>t_trap</th>\n",
       "      <td>113.409091</td>\n",
       "      <td>113.409091</td>\n",
       "    </tr>\n",
       "  </tbody>\n",
       "</table>\n",
       "</div>"
      ],
      "text/plain": [
       "                                         PFA           SW\n",
       "measurement                                              \n",
       "t_fetch                                  NaN  9620.028409\n",
       "t_miss                           4436.093750  9783.187500\n",
       "t_read_real                              NaN          NaN\n",
       "t_read_switch_memblade_measured          NaN  4814.573864\n",
       "t_read_switch_memblade_theory    4088.437500  4088.437500\n",
       "t_trap                            113.409091   113.409091"
      ]
     },
     "execution_count": 7,
     "metadata": {},
     "output_type": "execute_result"
    }
   ],
   "source": [
    "t_pfa = (micro_mean['PFA']['t_miss'] - 4088.4375) + 1129\n",
    "t_sw = (micro_mean['SW']['t_miss'] - 4088.4375) + 1129\n",
    "print((t_pfa - 1129) / t_pfa)\n",
    "print((t_sw - 1129) / t_sw)\n",
    "micro_mean"
   ]
  },
  {
   "cell_type": "markdown",
   "metadata": {},
   "source": [
    "### Standard Deviation:"
   ]
  },
  {
   "cell_type": "code",
   "execution_count": 8,
   "metadata": {},
   "outputs": [
    {
     "data": {
      "text/html": [
       "<div>\n",
       "<style scoped>\n",
       "    .dataframe tbody tr th:only-of-type {\n",
       "        vertical-align: middle;\n",
       "    }\n",
       "\n",
       "    .dataframe tbody tr th {\n",
       "        vertical-align: top;\n",
       "    }\n",
       "\n",
       "    .dataframe thead th {\n",
       "        text-align: right;\n",
       "    }\n",
       "</style>\n",
       "<table border=\"1\" class=\"dataframe\">\n",
       "  <thead>\n",
       "    <tr style=\"text-align: right;\">\n",
       "      <th></th>\n",
       "      <th>PFA</th>\n",
       "      <th>SW</th>\n",
       "    </tr>\n",
       "    <tr>\n",
       "      <th>measurement</th>\n",
       "      <th></th>\n",
       "      <th></th>\n",
       "    </tr>\n",
       "  </thead>\n",
       "  <tbody>\n",
       "    <tr>\n",
       "      <th>t_fetch</th>\n",
       "      <td>NaN</td>\n",
       "      <td>128.431984</td>\n",
       "    </tr>\n",
       "    <tr>\n",
       "      <th>t_miss</th>\n",
       "      <td>8.766416</td>\n",
       "      <td>187.107448</td>\n",
       "    </tr>\n",
       "    <tr>\n",
       "      <th>t_read_real</th>\n",
       "      <td>NaN</td>\n",
       "      <td>NaN</td>\n",
       "    </tr>\n",
       "    <tr>\n",
       "      <th>t_read_switch_memblade_measured</th>\n",
       "      <td>NaN</td>\n",
       "      <td>49.102347</td>\n",
       "    </tr>\n",
       "    <tr>\n",
       "      <th>t_read_switch_memblade_theory</th>\n",
       "      <td>NaN</td>\n",
       "      <td>NaN</td>\n",
       "    </tr>\n",
       "    <tr>\n",
       "      <th>t_trap</th>\n",
       "      <td>16.274894</td>\n",
       "      <td>16.274894</td>\n",
       "    </tr>\n",
       "  </tbody>\n",
       "</table>\n",
       "</div>"
      ],
      "text/plain": [
       "                                       PFA          SW\n",
       "measurement                                           \n",
       "t_fetch                                NaN  128.431984\n",
       "t_miss                            8.766416  187.107448\n",
       "t_read_real                            NaN         NaN\n",
       "t_read_switch_memblade_measured        NaN   49.102347\n",
       "t_read_switch_memblade_theory          NaN         NaN\n",
       "t_trap                           16.274894   16.274894"
      ]
     },
     "execution_count": 8,
     "metadata": {},
     "output_type": "execute_result"
    }
   ],
   "source": [
    "micro_std"
   ]
  },
  {
   "cell_type": "markdown",
   "metadata": {},
   "source": [
    "# Facts and Figures"
   ]
  },
  {
   "cell_type": "markdown",
   "metadata": {},
   "source": [
    "## Fault Timing Breakdown"
   ]
  },
  {
   "cell_type": "code",
   "execution_count": 9,
   "metadata": {},
   "outputs": [
    {
     "name": "stdout",
     "output_type": "stream",
     "text": [
      "2.194146032193301\n"
     ]
    },
    {
     "data": {
      "image/png": "[encoded data removed]",
      "text/plain": [
       "<Figure size 432x288 with 1 Axes>"
      ]
     },
     "metadata": {
      "needs_background": "light"
     },
     "output_type": "display_data"
    }
   ],
   "source": [
    "def breakdown_fault(df):\n",
    "    tmp = df.transpose().fillna(0)\n",
    "    ft = pd.DataFrame(index=tmp.index.copy())\n",
    "    ft['Trap'] = tmp['t_trap']\n",
    "    ft['Proc'] = tmp['t_fetch'] - tmp['t_read_switch_memblade_measured']\n",
    "    # This is measured directly in VCS\n",
    "    ft['Proc']['PFA'] = 1 / 3.2\n",
    "    ft['NIC'] = tmp['t_read_switch_memblade_measured'] - tmp['t_read_switch_memblade_theory']\n",
    "    ft['NIC']['PFA'] = tmp['t_miss']['PFA'] - ft['Trap']['PFA'] - ft['Proc']['PFA'] - tmp['t_read_switch_memblade_theory']['PFA']\n",
    "    ft['MemBlade'] = tmp['t_read_switch_memblade_theory']\n",
    "    #This is an optimistic memory blade (~1us)\n",
    "    #ft['MemBlade'] = 1129\n",
    "    return ft\n",
    "    \n",
    "\n",
    "pfa_fetchtime_mean = breakdown_fault(micro_mean)\n",
    "pfa_fetchtime_std  = breakdown_fault(micro_std)\n",
    "pfa_fetchtime_std['MemBlade'] = 0\n",
    "\n",
    "print(pfa_fetchtime_mean.sum(axis=1)['SW'] / pfa_fetchtime_mean.sum(axis=1)['PFA'])\n",
    "ax = pfa_fetchtime_mean.plot(kind='bar', stacked=True, yerr=pfa_fetchtime_std, legend=False)\n",
    "#ax = pfa_fetchtime_mean.plot(kind='bar', stacked=True, legend=False)\n",
    "hatches = ['o', 'o', 'x', 'x', '//', '//','|','|']\n",
    "for i,bar in enumerate(ax.patches):\n",
    "    bar.set_hatch(hatches[i])\n",
    "\n",
    "ax.legend()\n",
    "ax.set_ylabel('Time (ns)')\n",
    "plt.savefig('figs/fetch_breakdown.png', dpi=300, bbox_inches='tight')\n",
    "plt.show()"
   ]
  },
  {
   "cell_type": "markdown",
   "metadata": {},
   "source": [
    "## Page Faults"
   ]
  },
  {
   "cell_type": "code",
   "execution_count": 10,
   "metadata": {},
   "outputs": [
    {
     "data": {
      "image/png": "[encoded data removed]",
      "text/plain": [
       "<Figure size 432x288 with 1 Axes>"
      ]
     },
     "metadata": {
      "needs_background": "light"
     },
     "output_type": "display_data"
    }
   ],
   "source": [
    "swap_pf = pd.concat([(gen_sw_res['n_swapfault'] / gen_pfa_res['n_pfa_fault']).rename(\"Genome\"),\n",
    "                      (qsort_sw_res['n_swapfault'] / qsort_pfa_res['n_pfa_fault']).rename(\"Qsort\")],\n",
    "                     axis=1)\n",
    "\n",
    "swap_pf.plot(kind='bar', title='Swap Faults')\n",
    "plt.show()"
   ]
  },
  {
   "cell_type": "code",
   "execution_count": 11,
   "metadata": {},
   "outputs": [
    {
     "data": {
      "image/png": "[encoded data removed]",
      "text/plain": [
       "<Figure size 432x288 with 1 Axes>"
      ]
     },
     "metadata": {
      "needs_background": "light"
     },
     "output_type": "display_data"
    }
   ],
   "source": [
    "total_pf = pd.concat([(gen_sw_res['n_fault'] / gen_pfa_res['n_fault']).rename(\"Genome\"),\n",
    "                      (qsort_sw_res['n_fault'] / qsort_pfa_res['n_fault']).rename(\"Qsort\")],\n",
    "                     axis=1)\n",
    "\n",
    "total_pf.plot(kind='bar', title='Total Faults')\n",
    "plt.show()"
   ]
  },
  {
   "cell_type": "code",
   "execution_count": 12,
   "metadata": {},
   "outputs": [
    {
     "data": {
      "image/png": "[encoded data removed]",
      "text/plain": [
       "<Figure size 432x288 with 1 Axes>"
      ]
     },
     "metadata": {
      "needs_background": "light"
     },
     "output_type": "display_data"
    }
   ],
   "source": [
    "swap_fault_frac = pd.concat([\n",
    "    (gen_sw_res['n_swapfault'] / gen_sw_res['n_fault']).rename(\"Genome SW\"),\n",
    "    (gen_pfa_res['n_pfa_fault'] / gen_pfa_res['n_fault']).rename(\"Genome PFA\"),\n",
    "    (qsort_sw_res['n_swapfault'] / qsort_sw_res['n_fault']).rename(\"Qsort SW\"),\n",
    "    (qsort_pfa_res['n_pfa_fault'] / qsort_pfa_res['n_fault']).rename(\"Qsort PFA\")],\n",
    "    axis=1)\n",
    "\n",
    "ax = (swap_fault_frac * 100).plot(kind='bar', legend=False)\n",
    "hatches = ['//', '//', '//', 2*'x', 2*'x', 2*'x', '--', '--', '--','||','||','||']\n",
    "for i,bar in enumerate(ax.patches):\n",
    "    bar.set_hatch(hatches[i])\n",
    "\n",
    "ax.legend(fontsize=12)\n",
    "ax.set_ylabel('Percent Paging-Related')\n",
    "ax.set_xlabel('Percent Memory Local')\n",
    "plt.savefig('figs/swapfault.png', dpi=300, bbox_inches='tight')\n",
    "plt.show()"
   ]
  },
  {
   "cell_type": "markdown",
   "metadata": {},
   "source": [
    "### Effectiveness of fetched bit (early newq)"
   ]
  },
  {
   "cell_type": "code",
   "execution_count": 13,
   "metadata": {},
   "outputs": [
    {
     "data": {
      "text/html": [
       "<div>\n",
       "<style scoped>\n",
       "    .dataframe tbody tr th:only-of-type {\n",
       "        vertical-align: middle;\n",
       "    }\n",
       "\n",
       "    .dataframe tbody tr th {\n",
       "        vertical-align: top;\n",
       "    }\n",
       "\n",
       "    .dataframe thead th {\n",
       "        text-align: right;\n",
       "    }\n",
       "</style>\n",
       "<table border=\"1\" class=\"dataframe\">\n",
       "  <thead>\n",
       "    <tr style=\"text-align: right;\">\n",
       "      <th></th>\n",
       "      <th>Genome PFA</th>\n",
       "      <th>Qsort PFA</th>\n",
       "    </tr>\n",
       "    <tr>\n",
       "      <th>MemSize</th>\n",
       "      <th></th>\n",
       "      <th></th>\n",
       "    </tr>\n",
       "  </thead>\n",
       "  <tbody>\n",
       "    <tr>\n",
       "      <th>75.0</th>\n",
       "      <td>0.001705</td>\n",
       "      <td>0.007232</td>\n",
       "    </tr>\n",
       "    <tr>\n",
       "      <th>50.0</th>\n",
       "      <td>0.002073</td>\n",
       "      <td>0.011853</td>\n",
       "    </tr>\n",
       "    <tr>\n",
       "      <th>25.0</th>\n",
       "      <td>0.010720</td>\n",
       "      <td>0.016756</td>\n",
       "    </tr>\n",
       "  </tbody>\n",
       "</table>\n",
       "</div>"
      ],
      "text/plain": [
       "         Genome PFA  Qsort PFA\n",
       "MemSize                       \n",
       "75.0       0.001705   0.007232\n",
       "50.0       0.002073   0.011853\n",
       "25.0       0.010720   0.016756"
      ]
     },
     "execution_count": 13,
     "metadata": {},
     "output_type": "execute_result"
    }
   ],
   "source": [
    "early_newq_frac = pd.concat([\n",
    "    (gen_pfa_res['n_pfa_fault'] / gen_pfa_res['n_fault']).rename(\"Genome PFA\"),\n",
    "    (qsort_pfa_res['n_pfa_fault'] / qsort_pfa_res['n_fault']).rename(\"Qsort PFA\")],\n",
    "    axis=1)\n",
    "\n",
    "early_newq_frac"
   ]
  },
  {
   "cell_type": "markdown",
   "metadata": {},
   "source": [
    "## Bookkeeping Time"
   ]
  },
  {
   "cell_type": "markdown",
   "metadata": {},
   "source": [
    "### PFA Savings in bookkeeping time"
   ]
  },
  {
   "cell_type": "code",
   "execution_count": 14,
   "metadata": {
    "scrolled": true
   },
   "outputs": [
    {
     "name": "stdout",
     "output_type": "stream",
     "text": [
      "Average Slowdown in Bookkeeping time (pfa / sw)\n",
      "QSort: 2.4768285202509412\n",
      "Genome: 2.1548660638811703\n",
      "\\Bookkeeping slowdown relative to PFA\n",
      "              gen     qsort\n",
      "MemSize                    \n",
      "75.0     2.320476  2.394331\n",
      "50.0     2.257922  2.524236\n",
      "25.0     1.886200  2.511918\n"
     ]
    }
   ],
   "source": [
    "# Bookkeeping Time\n",
    "gen_pfa_bk = gen_pfa_res['t_bookkeeping'].astype('float')\n",
    "gen_sw_bk = gen_sw_res['t_bookkeeping'].astype('float')\n",
    "\n",
    "qsort_pfa_bk = qsort_pfa_res['t_bookkeeping'].astype('float')\n",
    "qsort_sw_bk = qsort_sw_res['t_bookkeeping'].astype('float')\n",
    "\n",
    "print(\"Average Slowdown in Bookkeeping time (pfa / sw)\")\n",
    "print(\"QSort: \" + str(np.mean(qsort_sw_bk.values / qsort_pfa_bk.values)))\n",
    "print(\"Genome: \" + str(np.mean(gen_sw_bk.values / gen_pfa_bk.values)))\n",
    "\n",
    "# Ratio of PFA runtime vs SW\n",
    "print(\"\\Bookkeeping slowdown relative to PFA\")\n",
    "relative_bk = pd.concat([(gen_sw_res['t_bookkeeping'] / gen_pfa_res['t_bookkeeping']).rename(\"gen\"),\n",
    "                            (qsort_sw_res['t_bookkeeping'] / qsort_pfa_res['t_bookkeeping']).rename(\"qsort\")], axis=1)\n",
    "print(relative_bk)\n"
   ]
  },
  {
   "cell_type": "code",
   "execution_count": 15,
   "metadata": {},
   "outputs": [
    {
     "data": {
      "image/png": "[encoded data removed]",
      "text/plain": [
       "<Figure size 432x288 with 1 Axes>"
      ]
     },
     "metadata": {
      "needs_background": "light"
     },
     "output_type": "display_data"
    }
   ],
   "source": [
    "ax = relative_bk.plot(kind=\"bar\", legend=False)\n",
    "\n",
    "hatches = ['//', '//', '//', 'x', 'x', 'x']\n",
    "for i,bar in enumerate(ax.patches):\n",
    "    bar.set_hatch(hatches[i])\n",
    "    \n",
    "ax.legend(bbox_to_anchor=(1, 1), loc=2)\n",
    "ax.set_ylabel('Slowdown')\n",
    "ax.set_xlabel('Percent Memory Local')\n",
    "plt.show()"
   ]
  },
  {
   "cell_type": "markdown",
   "metadata": {},
   "source": [
    "### Time Spent In Bookkeeping"
   ]
  },
  {
   "cell_type": "code",
   "execution_count": 16,
   "metadata": {},
   "outputs": [
    {
     "name": "stdout",
     "output_type": "stream",
     "text": [
      "QuickSort Percent Time Spent Bookkeeping\n",
      "         Qsort PFA  Qsort SW\n",
      "MemSize                     \n",
      "75.0      0.128899  0.239965\n",
      "50.0      0.171244  0.323587\n",
      "25.0      0.226426  0.413172\n",
      "Genome Percent Time Spent Bookkeeping\n",
      "          Gen PFA    Gen SW\n",
      "MemSize                    \n",
      "75.0     0.058933  0.098956\n",
      "50.0     0.237175  0.381480\n",
      "25.0     0.499261  0.790000\n"
     ]
    }
   ],
   "source": [
    "def NormalizeBK(r):\n",
    "    r['bk_prop'] = r['t_bookkeeping'] / r['RunTime']\n",
    "    return r\n",
    "\n",
    "gen_pfa_res =      NormalizeBK(gen_pfa_res)\n",
    "gen_sw_res =   NormalizeBK(gen_sw_res)\n",
    "qsort_pfa_res =    NormalizeBK(qsort_pfa_res)\n",
    "qsort_sw_res = NormalizeBK(qsort_sw_res)\n",
    "\n",
    "gen_bk_prop = pd.concat([gen_pfa_res['bk_prop'].rename('Gen PFA'), gen_sw_res['bk_prop'].rename(\"Gen SW\")], axis=1)\n",
    "qsort_bk_prop = pd.concat([qsort_pfa_res['bk_prop'].rename('Qsort PFA'), qsort_sw_res['bk_prop'].rename(\"Qsort SW\")], axis=1)\n",
    "print(\"QuickSort Percent Time Spent Bookkeeping\")\n",
    "print(qsort_bk_prop)\n",
    "\n",
    "print(\"Genome Percent Time Spent Bookkeeping\")\n",
    "print(gen_bk_prop)"
   ]
  },
  {
   "cell_type": "code",
   "execution_count": 17,
   "metadata": {},
   "outputs": [
    {
     "data": {
      "image/png": "[encoded data removed]",
      "text/plain": [
       "<Figure size 432x288 with 1 Axes>"
      ]
     },
     "metadata": {
      "needs_background": "light"
     },
     "output_type": "display_data"
    }
   ],
   "source": [
    "ax = (gen_bk_prop * 100).plot(\n",
    "    kind=\"line\",\n",
    "    title=\"Proportion of Time Spent Bookkeeping (Genome)\",\n",
    "    style=[\"-\", \"--\"],\n",
    "    linewidth=4)\n",
    "#qsort_bk_prop.plot(kind=\"line\", title=\"Proportion of Time Spent Bookkeeping (Genome)\", ax=ax)\n",
    "ax.set_ylabel('Percent Time Spent Bookkeeping')\n",
    "ax.set_xlabel('Percent Memory Local')\n",
    "plt.savefig('figs/bk_prop.png', dpi=300, bbox_inches='tight')\n",
    "plt.show()"
   ]
  },
  {
   "cell_type": "code",
   "execution_count": 18,
   "metadata": {},
   "outputs": [
    {
     "name": "stdout",
     "output_type": "stream",
     "text": [
      "          Gen PFA    Gen SW  Qsort PFA  Qsort SW\n",
      "MemSize                                         \n",
      "75.0     0.058933  0.098956   0.128899  0.239965\n",
      "50.0     0.237175  0.381480   0.171244  0.323587\n",
      "25.0     0.499261  0.790000   0.226426  0.413172\n"
     ]
    },
    {
     "data": {
      "image/png": "[encoded data removed]",
      "text/plain": [
       "<Figure size 432x288 with 1 Axes>"
      ]
     },
     "metadata": {
      "needs_background": "light"
     },
     "output_type": "display_data"
    }
   ],
   "source": [
    "tmp = pd.concat([gen_bk_prop, qsort_bk_prop], axis=1)\n",
    "print(tmp)\n",
    "ax = (tmp * 100).plot(\n",
    "    kind=\"bar\",\n",
    "    width=0.8,\n",
    "    legend=False,\n",
    "    ylim=(0, 100))\n",
    "\n",
    "hatches = ['//', '//', '//', 2*'x', 2*'x', 2*'x', '--', '--', '--','||','||','||']\n",
    "for i,bar in enumerate(ax.patches):\n",
    "    bar.set_hatch(hatches[i])\n",
    "    \n",
    "ax.set_ylabel('Percent Time Spent Bookkeeping')\n",
    "ax.set_xlabel('Percent Memory Local')\n",
    "plt.legend()\n",
    "plt.savefig('figs/bk_prop_all.png', dpi=300, bbox_inches='tight')\n",
    "plt.show()"
   ]
  },
  {
   "cell_type": "markdown",
   "metadata": {
    "collapsed": true
   },
   "source": [
    "## End to End Performance"
   ]
  },
  {
   "cell_type": "code",
   "execution_count": 19,
   "metadata": {},
   "outputs": [
    {
     "name": "stdout",
     "output_type": "stream",
     "text": [
      "\n",
      "Slowdown relative to PFA\n",
      "              gen     qsort\n",
      "MemSize                    \n",
      "75.0     1.381952  1.286133\n",
      "50.0     1.403802  1.335836\n",
      "25.0     1.192033  1.376575\n"
     ]
    },
    {
     "data": {
      "image/png": "[encoded data removed]",
      "text/plain": [
       "<Figure size 432x288 with 1 Axes>"
      ]
     },
     "metadata": {
      "needs_background": "light"
     },
     "output_type": "display_data"
    }
   ],
   "source": [
    "# Ratio of PFA runtime vs SW\n",
    "print(\"\\nSlowdown relative to PFA\")\n",
    "relative_speed = pd.concat([(gen_sw_res['RunTime'] / gen_pfa_res['RunTime']).rename(\"gen\"),\n",
    "                            (qsort_sw_res['RunTime'] / qsort_pfa_res['RunTime']).rename(\"qsort\")], axis=1)\n",
    "print(relative_speed)\n",
    "ax = relative_speed.plot(\n",
    "    kind='bar')\n",
    "\n",
    "hatches = ['//', '//', '//', 'x', 'x', 'x']\n",
    "for i,bar in enumerate(ax.patches):\n",
    "    bar.set_hatch(hatches[i])\n",
    "    \n",
    "ax.legend(bbox_to_anchor=(1, 1), loc=2)\n",
    "plt.ylabel('PFA Speedup')\n",
    "plt.xlabel('Percent Memory Local')\n",
    "plt.savefig('figs/total_speedup.png', dpi=300, bbox_inches='tight')\n",
    "plt.show()"
   ]
  },
  {
   "cell_type": "code",
   "execution_count": 20,
   "metadata": {},
   "outputs": [
    {
     "data": {
      "image/png": "[encoded data removed]",
      "text/plain": [
       "<Figure size 432x288 with 1 Axes>"
      ]
     },
     "metadata": {
      "needs_background": "light"
     },
     "output_type": "display_data"
    }
   ],
   "source": [
    "total_slowdown = pd.concat([gen_pfa_res['Slowdown'].rename(\"Genome PFA\"),\n",
    "                            gen_sw_res['Slowdown'].rename(\"Genome SW\"),\n",
    "                            qsort_pfa_res['Slowdown'].rename(\"Qsort PFA\"),\n",
    "                            qsort_sw_res['Slowdown'].rename(\"Qsort SW\")],\n",
    "                          axis=1)\n",
    "\n",
    "ax = total_slowdown.plot(\n",
    "    kind='line',\n",
    "    style=[':', '--', '-.', '-'],\n",
    "    linewidth=3)\n",
    "plt.ylabel('SlowDown vs No Paging')\n",
    "plt.xlabel('Percent Memory Local')\n",
    "plt.show()"
   ]
  },
  {
   "cell_type": "code",
   "execution_count": 21,
   "metadata": {},
   "outputs": [
    {
     "data": {
      "image/png": "[encoded data removed]",
      "text/plain": [
       "<Figure size 432x288 with 1 Axes>"
      ]
     },
     "metadata": {
      "needs_background": "light"
     },
     "output_type": "display_data"
    }
   ],
   "source": [
    "ax = total_slowdown.plot(\n",
    "    kind='bar',\n",
    "    legend=False,\n",
    "    width=0.8)\n",
    "ax.set_ylabel('Slowdown vs No Paging')\n",
    "ax.set_xlabel('Percent Memory Local')\n",
    "\n",
    "hatches = ['//', '//', '//', 2*'x', 2*'x', 2*'x', '--', '--', '--','||','||','||']\n",
    "for i,bar in enumerate(ax.patches):\n",
    "    bar.set_hatch(hatches[i])\n",
    "    \n",
    "ax.legend()    \n",
    "\n",
    "plt.savefig('figs/perf_nokswapd.png', dpi=300, bbox_inches='tight')\n",
    "plt.show()"
   ]
  },
  {
   "cell_type": "markdown",
   "metadata": {
    "collapsed": true
   },
   "source": []
  },
  {
   "cell_type": "code",
   "execution_count": null,
   "metadata": {},
   "outputs": [],
   "source": []
  }
 ],
 "metadata": {
  "kernelspec": {
   "display_name": "Python 3",
   "language": "python",
   "name": "python3"
  },
  "language_info": {
   "codemirror_mode": {
    "name": "ipython",
    "version": 3
   },
   "file_extension": ".py",
   "mimetype": "text/x-python",
   "name": "python",
   "nbconvert_exporter": "python",
   "pygments_lexer": "ipython3",
   "version": "3.6.8"
  }
 },
 "nbformat": 4,
 "nbformat_minor": 2
}
